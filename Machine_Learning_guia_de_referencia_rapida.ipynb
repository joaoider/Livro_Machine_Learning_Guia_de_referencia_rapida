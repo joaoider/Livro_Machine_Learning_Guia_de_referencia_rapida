{
 "cells": [
  {
   "cell_type": "markdown",
   "id": "35b3accf",
   "metadata": {},
   "source": [
    "# Titanic"
   ]
  },
  {
   "cell_type": "markdown",
   "id": "acab6694",
   "metadata": {},
   "source": [
    "# Capítulo 1 - Introdução"
   ]
  },
  {
   "cell_type": "code",
   "execution_count": null,
   "id": "06754618",
   "metadata": {},
   "outputs": [],
   "source": [
    "# import autosklearn, catboost, category_encoders, dtreeviz, eli5, fancyimpute, fastai, featuretools, glmnet_py, graphviz, hdbscan, imblearn, janitor, lime, matplotlib, missingno, mlxtend, numpy, pandas, pdpbox, phate, pydotplus, rfpimp, scikitplot, scipy, seaborn, shap, sklearn, statsmodels, tpot, treeinterpreter, umap, xgbfir, xgboost, yellowbrick"
   ]
  },
  {
   "cell_type": "markdown",
   "id": "45bda753",
   "metadata": {},
   "source": [
    "# Capítulo 2 - Visão geral do processo de machine learning"
   ]
  },
  {
   "cell_type": "code",
   "execution_count": null,
   "id": "2e3d70a8",
   "metadata": {},
   "outputs": [],
   "source": [
    "# Business understanding\n",
    "# Data understanding\n",
    "# Data preparation\n",
    "# Modeling\n",
    "# Evaluation\n",
    "# Deployment"
   ]
  },
  {
   "cell_type": "markdown",
   "id": "999dc050",
   "metadata": {},
   "source": [
    "# Capítulo 3 - Descrição da classificação: conjunto de dados do Titanic"
   ]
  },
  {
   "cell_type": "markdown",
   "id": "747b7c2f",
   "metadata": {},
   "source": [
    "### Importações"
   ]
  },
  {
   "cell_type": "code",
   "execution_count": null,
   "id": "6d9057ba",
   "metadata": {},
   "outputs": [],
   "source": [
    "import matplotlib.pyplot as plt\n",
    "import pandas as pd\n",
    "from sklearn import ensemble, preprocessing, tree\n",
    "from sklearn.metrics import auc, confusion_matrix, roc_auc_score, roc_curve\n",
    "from sklearn.model_selection import StratifiedKFold\n",
    "from yellowbrick.classifier import ConfusionMatrix, ROCAUC\n",
    "from yellowbrick.model_selection import LearningCurve\n",
    "from sklearn import model_selection"
   ]
  },
  {
   "cell_type": "markdown",
   "id": "25b0e924",
   "metadata": {},
   "source": [
    "### Colete os dados"
   ]
  },
  {
   "cell_type": "code",
   "execution_count": null,
   "id": "a440216d",
   "metadata": {},
   "outputs": [],
   "source": [
    "url = ('https://biostat.app.vumc.org/wiki/pub/Main/DataSets/titanic3.xls')\n",
    "df = pd.read_excel(url)\n",
    "orig_df = df"
   ]
  },
  {
   "cell_type": "code",
   "execution_count": null,
   "id": "50d1776b",
   "metadata": {},
   "outputs": [],
   "source": [
    "df.head()"
   ]
  },
  {
   "cell_type": "markdown",
   "id": "9a40568a",
   "metadata": {},
   "source": [
    "### Limpe os dados"
   ]
  },
  {
   "cell_type": "code",
   "execution_count": null,
   "id": "aa7921df",
   "metadata": {},
   "outputs": [],
   "source": [
    "df.dtypes"
   ]
  },
  {
   "cell_type": "code",
   "execution_count": null,
   "id": "55d7e004",
   "metadata": {},
   "outputs": [],
   "source": [
    "# gera um relatório de perfil. sintetiza os tipos das colunas e permite visualizar os detalhes das estatísticas dos quantis, estatísticas descriticas, histograma, valores comuns e valores extremos.\n",
    "import pandas_profiling\n",
    "pandas_profiling.ProfileReport(df)"
   ]
  },
  {
   "cell_type": "code",
   "execution_count": null,
   "id": "e85b0827",
   "metadata": {},
   "outputs": [],
   "source": [
    "df.shape"
   ]
  },
  {
   "cell_type": "code",
   "execution_count": null,
   "id": "ed7a14ec",
   "metadata": {},
   "outputs": [],
   "source": [
    "# estatísticas resumidas, contatos de dados não nulos.\n",
    "# abaixo foi truncado para exibir somente as primeiras colunas\n",
    "df.describe().iloc[:, :2]"
   ]
  },
  {
   "cell_type": "code",
   "execution_count": null,
   "id": "c81d823a",
   "metadata": {},
   "outputs": [],
   "source": [
    "df.isnull().sum()"
   ]
  },
  {
   "cell_type": "code",
   "execution_count": null,
   "id": "e8d7e375",
   "metadata": {},
   "outputs": [],
   "source": [
    "# porcentagem por valores nulos\n",
    "df.isnull().mean(axis=1).loc[:10]"
   ]
  },
  {
   "cell_type": "code",
   "execution_count": null,
   "id": "615210ad",
   "metadata": {},
   "outputs": [],
   "source": [
    "mask = df.isnull().any(axis=1)"
   ]
  },
  {
   "cell_type": "code",
   "execution_count": null,
   "id": "46cbe6ac",
   "metadata": {},
   "outputs": [],
   "source": [
    "mask.head()"
   ]
  },
  {
   "cell_type": "code",
   "execution_count": null,
   "id": "c858ed86",
   "metadata": {},
   "outputs": [],
   "source": [
    "df[mask].body.head()"
   ]
  },
  {
   "cell_type": "code",
   "execution_count": null,
   "id": "54df07fc",
   "metadata": {},
   "outputs": [],
   "source": [
    "df.sex.value_counts(dropna = False)"
   ]
  },
  {
   "cell_type": "code",
   "execution_count": null,
   "id": "63bef3e9",
   "metadata": {},
   "outputs": [],
   "source": [
    "df.embarked.value_counts(dropna = False)"
   ]
  },
  {
   "cell_type": "markdown",
   "id": "ac93cd36",
   "metadata": {},
   "source": [
    "### Crie os atributos"
   ]
  },
  {
   "cell_type": "code",
   "execution_count": null,
   "id": "d33ef7f4",
   "metadata": {},
   "outputs": [],
   "source": [
    "name = df.name"
   ]
  },
  {
   "cell_type": "code",
   "execution_count": null,
   "id": "66f6e6e3",
   "metadata": {},
   "outputs": [],
   "source": [
    "name.head(3)"
   ]
  },
  {
   "cell_type": "code",
   "execution_count": null,
   "id": "1fd550c3",
   "metadata": {},
   "outputs": [],
   "source": [
    "# O conjunto de dados Titanic contém atributos que provocam vazamento de informações (leaky features)\n",
    "# leaky features são variáveis que contêm dados sobre o futuro ou o objetivo.\n",
    "\n",
    "# a coluna body (número de identificação do corpo) informa que o passageiro não sobreviveu.\n",
    "# a coluna boat (bote salva vidas) informa que o passageiro sobreviveu. \n",
    "# a coluna name não traz nenhuma informação relevante.\n",
    "df = df.drop(columns = ['name', 'ticket', 'home.dest', 'boat', 'body', 'cabin'])"
   ]
  },
  {
   "cell_type": "code",
   "execution_count": null,
   "id": "fc3c5700",
   "metadata": {},
   "outputs": [],
   "source": [
    "df.head()"
   ]
  },
  {
   "cell_type": "code",
   "execution_count": null,
   "id": "5d3531ac",
   "metadata": {},
   "outputs": [],
   "source": [
    "# criar colunas dummy a partir das colunas de string\n",
    "df = pd.get_dummies(df)"
   ]
  },
  {
   "cell_type": "code",
   "execution_count": null,
   "id": "f2407425",
   "metadata": {},
   "outputs": [],
   "source": [
    "df.columns"
   ]
  },
  {
   "cell_type": "code",
   "execution_count": null,
   "id": "3e6e8151",
   "metadata": {},
   "outputs": [],
   "source": [
    "# as colunas sex_male e sex_female estão inversamente correlacionadas de forma perfeita\n",
    "# em geral, removemos qualquer coluna com uma correlação perfeita ou com uma correlação positiva ou negativa bem alta.\n",
    "# a multicolinearidade pode causar impactos na interpretação da importância dos atributos dos coeficientes em alguns modelos.\n",
    "\n",
    "df = df.drop(columns = 'sex_male')\n",
    "df = pd.get_dummies(df, drop_first = True)\n",
    "df.columns"
   ]
  },
  {
   "cell_type": "code",
   "execution_count": null,
   "id": "ed8551d4",
   "metadata": {},
   "outputs": [],
   "source": [
    "y = df.survived\n",
    "X = df.drop(columns = 'survived')"
   ]
  },
  {
   "cell_type": "markdown",
   "id": "2e9a96f4",
   "metadata": {},
   "source": [
    "### Separe as amostras"
   ]
  },
  {
   "cell_type": "code",
   "execution_count": null,
   "id": "1794bb23",
   "metadata": {},
   "outputs": [],
   "source": [
    "# sempre devemos fazer treinamento e testes em dados distintos. caso contrário, você não saberá realmente quão bem seu modelo poderá ser generalizado para dados que ainda não tenham sido vistos antes.\n",
    "# Usaremos o scikit-learn para extrair 30% dos dados para testes (usamos random_state=42 para eliminar a aleatoriedade caso venhamos a comparar diferentes modelos)\n",
    "\n",
    "X_train, X_test, y_train, y_test = model_selection.train_test_split(X, y, test_size=0.3, random_state=42)"
   ]
  },
  {
   "cell_type": "code",
   "execution_count": null,
   "id": "239052c8",
   "metadata": {},
   "outputs": [],
   "source": [
    "X_train, X_test"
   ]
  },
  {
   "cell_type": "code",
   "execution_count": null,
   "id": "c3224ea4",
   "metadata": {},
   "outputs": [],
   "source": [
    "y_train, y_test"
   ]
  },
  {
   "cell_type": "markdown",
   "id": "340903a6",
   "metadata": {},
   "source": [
    "### Imputação de dados"
   ]
  },
  {
   "cell_type": "code",
   "execution_count": null,
   "id": "0b162d91",
   "metadata": {},
   "outputs": [],
   "source": [
    "# a coluna de idade tem valores ausentes. devemos imputar uma idade a partir dos valores numéricos. queremos imputar dados apenas no conjunto de treinamento, e então usar esse imputer para preencher os dados no conjunto de testes. caso contrário, causaremos vazamento de informações (trapaceando ao dar informações futuras para o modelo).\n",
    "\n",
    "from sklearn.experimental import enable_iterative_imputer\n",
    "from sklearn import impute\n",
    "\n",
    "num_cols = ['pclass', 'age', 'sibsp', 'parch', 'fare', 'sex_female']\n",
    "num_cols"
   ]
  },
  {
   "cell_type": "code",
   "execution_count": null,
   "id": "6a912e01",
   "metadata": {},
   "outputs": [],
   "source": [
    "imputer = impute.IterativeImputer()"
   ]
  },
  {
   "cell_type": "code",
   "execution_count": null,
   "id": "1274c3c2",
   "metadata": {},
   "outputs": [],
   "source": [
    "imputed = imputer.fit_transform(X_train[num_cols])\n",
    "X_train.loc[:, num_cols] = imputed"
   ]
  },
  {
   "cell_type": "code",
   "execution_count": null,
   "id": "025b570e",
   "metadata": {},
   "outputs": [],
   "source": [
    "imputed = imputer.transform(X_test[num_cols])\n",
    "X_test.loc[:, num_cols] = imputed"
   ]
  },
  {
   "cell_type": "code",
   "execution_count": null,
   "id": "72fcfc3f",
   "metadata": {},
   "outputs": [],
   "source": [
    "# imputar valores usando mediana\n",
    "\n",
    "meds = X_train.median()\n",
    "X_train = X_train.fillna(meds)\n",
    "X_test = X_test.fillna(meds)"
   ]
  },
  {
   "cell_type": "code",
   "execution_count": null,
   "id": "b8177b31",
   "metadata": {},
   "outputs": [],
   "source": [
    "X_train"
   ]
  },
  {
   "cell_type": "markdown",
   "id": "ab024f86",
   "metadata": {},
   "source": [
    "### Normalize os dados"
   ]
  },
  {
   "cell_type": "code",
   "execution_count": null,
   "id": "3bf2b65d",
   "metadata": {},
   "outputs": [],
   "source": [
    "# traduzir os dados de modo que tenham um valor de média igual a zero e um desvio-padrão igual a um.\n",
    "# desse modo os modelos não tratarão as variáveis com escalas maiores como mais importantes que as variáveis com menor escala.\n",
    "\n",
    "cols = 'pclass,age,sibsp,parch,fare,sex_female,embarked_C,embarked_Q,embarked_S'.split(',')\n",
    "sca = preprocessing.StandardScaler()\n",
    "cols"
   ]
  },
  {
   "cell_type": "code",
   "execution_count": null,
   "id": "738b1223",
   "metadata": {},
   "outputs": [],
   "source": [
    "X_train = sca.fit_transform(X_train)\n",
    "X_train = pd.DataFrame(X_train, columns = cols)\n",
    "X_train"
   ]
  },
  {
   "cell_type": "code",
   "execution_count": null,
   "id": "0dee1e2d",
   "metadata": {},
   "outputs": [],
   "source": [
    "X_test = sca.transform(X_test)\n",
    "X_test = pd.DataFrame(X_test, columns = cols)\n",
    "X_test"
   ]
  },
  {
   "cell_type": "markdown",
   "id": "b6c5e4e4",
   "metadata": {},
   "source": [
    "### Refatore"
   ]
  },
  {
   "cell_type": "code",
   "execution_count": null,
   "id": "0a34c2ba",
   "metadata": {},
   "outputs": [],
   "source": [
    "def tweak_titanic(df):\n",
    "    df = df.drop(columns = ['name', 'ticket', 'home.dest', 'boat', 'body', 'cabin']).pipe(pd.get_dummies, drop_first = True)\n",
    "    return df"
   ]
  },
  {
   "cell_type": "code",
   "execution_count": null,
   "id": "d63a6b03",
   "metadata": {},
   "outputs": [],
   "source": [
    "def get_train_test_X_y(df, y_col, size=0.3, std_cols=None):\n",
    "    y = df[y_col]\n",
    "    X = df.drop(columns = y_col)\n",
    "    X_train, X_test, y_train, y_test = train_test_split(X, y, test_size = size, random_state = 42)\n",
    "    cols = X.columns\n",
    "    num_cols = ['pclass', 'age', 'sibsp', 'parch', 'fare']\n",
    "    fi = impute.IterativeImputer()\n",
    "    X_train.loc[:, num_cols] = fi.fit_transform(X_train[num_cols])\n",
    "    X_test.loc[:, num_cols] = fi.transform(X_test[num_cols])\n",
    "    if std_cols:\n",
    "        std = preprocessing.StandardScaler()\n",
    "        X_train.loc[:, std_cols] = std.fit_transform(X_train[std_cols])\n",
    "        X_test.loc[:, std_cols] = std.transform(X_test[std_cols])\n",
    "    return X_train, X_test, y_train, y_test"
   ]
  },
  {
   "cell_type": "code",
   "execution_count": null,
   "id": "fc1bd440",
   "metadata": {},
   "outputs": [],
   "source": [
    "ti_df = tweak_titanic(orig_df)"
   ]
  },
  {
   "cell_type": "code",
   "execution_count": null,
   "id": "00a385d8",
   "metadata": {},
   "outputs": [],
   "source": [
    "ti_df.head()"
   ]
  },
  {
   "cell_type": "code",
   "execution_count": null,
   "id": "be7b6113",
   "metadata": {},
   "outputs": [],
   "source": [
    "std_cols = 'pclass,age,sibsp,fare'.split(',')"
   ]
  },
  {
   "cell_type": "code",
   "execution_count": null,
   "id": "a47a4154",
   "metadata": {},
   "outputs": [],
   "source": [
    "#X_train, X_test, y_train, y_test = get_train_test_X_y(ti_df, 'survived', std_cols = std_cols)"
   ]
  },
  {
   "cell_type": "markdown",
   "id": "dddaa54c",
   "metadata": {},
   "source": [
    "### Modelo de base"
   ]
  },
  {
   "cell_type": "code",
   "execution_count": null,
   "id": "90ebe830",
   "metadata": {},
   "outputs": [],
   "source": [
    "from sklearn.dummy import DummyClassifier"
   ]
  },
  {
   "cell_type": "code",
   "execution_count": null,
   "id": "7f47d272",
   "metadata": {},
   "outputs": [],
   "source": [
    "bm = DummyClassifier()\n",
    "bm.fit(X_train, y_train)\n",
    "bm.score(X_test, y_test) # precisão"
   ]
  },
  {
   "cell_type": "code",
   "execution_count": null,
   "id": "f91a6701",
   "metadata": {},
   "outputs": [],
   "source": [
    "from sklearn import metrics\n",
    "metrics.precision_score(y_test, bm.predict(X_test))"
   ]
  },
  {
   "cell_type": "markdown",
   "id": "18a0f3c5",
   "metadata": {},
   "source": [
    "### Várias famílias"
   ]
  },
  {
   "cell_type": "code",
   "execution_count": null,
   "id": "6f921f16",
   "metadata": {},
   "outputs": [],
   "source": [
    "X = pd.concat([X_train, X_test])\n",
    "y = pd.concat([y_train, y_test])\n",
    "\n",
    "from sklearn import model_selection\n",
    "from sklearn.dummy import DummyClassifier\n",
    "from sklearn.linear_model import LogisticRegression\n",
    "from sklearn.tree import DecisionTreeClassifier\n",
    "from sklearn.neighbors import KNeighborsClassifier\n",
    "from sklearn.naive_bayes import GaussianNB\n",
    "from sklearn.svm import SVC\n",
    "from sklearn.ensemble import RandomForestClassifier\n",
    "import xgboost"
   ]
  },
  {
   "cell_type": "code",
   "execution_count": null,
   "id": "6b2f176e",
   "metadata": {},
   "outputs": [],
   "source": [
    "for model in [DummyClassifier, LogisticRegression, DecisionTreeClassifier, KNeighborsClassifier, GaussianNB, SVC, RandomForestClassifier, xgboost.XGBClassifier]:\n",
    "    cls = model()\n",
    "    kfold = model_selection.KFold(n_splits = 10)\n",
    "    s = model_selection.cross_val_score(cls, X, y, scoring = 'roc_auc', cv = kfold)\n",
    "    print(f\"{model.__name__:22} AUC: \"\n",
    "         f\"{s.mean():.3f} STD: {s.std():.2f}\")"
   ]
  },
  {
   "cell_type": "markdown",
   "id": "cd791920",
   "metadata": {},
   "source": [
    "### Stacking"
   ]
  },
  {
   "cell_type": "code",
   "execution_count": null,
   "id": "387b505f",
   "metadata": {},
   "outputs": [],
   "source": [
    "from mlxtend.classifier import StackingClassifier\n",
    "\n",
    "clfs = [x() for x in [LogisticRegression, DecisionTreeClassifier, KNeighborsClassifier, GaussianNB, SVC, RandomForestClassifier]]\n",
    "stack = StackingClassifier(classifiers = clfs, meta_classifier = LogisticRegression())\n",
    "kfold = model_selection.KFold(n_splits = 10)\n",
    "s = model_selection.cross_val_score(stack, X, y, scoring = 'roc_auc', cv = kfold)\n",
    "print(f\"{stack.__class__.__name__} \"\n",
    "      f\"AUC: {s.mean():.3f} STD: {s.std():.2f}\")"
   ]
  },
  {
   "cell_type": "markdown",
   "id": "5558554a",
   "metadata": {},
   "source": [
    "### Crie o modelo"
   ]
  },
  {
   "cell_type": "code",
   "execution_count": null,
   "id": "8224a3cb",
   "metadata": {},
   "outputs": [],
   "source": [
    "rf = ensemble.RandomForestClassifier(n_estimators=100, random_state=42)\n",
    "rf.fit(X_train, y_train)"
   ]
  },
  {
   "cell_type": "markdown",
   "id": "9583c7f4",
   "metadata": {},
   "source": [
    "### Avalie o modelo"
   ]
  },
  {
   "cell_type": "code",
   "execution_count": null,
   "id": "b0a435d0",
   "metadata": {},
   "outputs": [],
   "source": [
    "rf.score(X_test, y_test)\n",
    "metrics.precision_score(y_test, rf.predict(X_test))"
   ]
  },
  {
   "cell_type": "code",
   "execution_count": null,
   "id": "4dcc5236",
   "metadata": {},
   "outputs": [],
   "source": [
    "for col, val in sorted(zip(X_train.columns, rf.feature_importances_), key = lambda x: x[1], reverse = True)[:5]:\n",
    "    print(f\"{col:10}{val:10.3f}\")"
   ]
  },
  {
   "cell_type": "markdown",
   "id": "f752bd83",
   "metadata": {},
   "source": [
    "### Otimize o modelo"
   ]
  },
  {
   "cell_type": "code",
   "execution_count": null,
   "id": "22e44c71",
   "metadata": {},
   "outputs": [],
   "source": [
    "rf4 = ensemble.RandomForestClassifier()\n",
    "params = {'max_features': [0.4, 'auto'],\n",
    "         'n_estimators': [15, 200],\n",
    "         'min_samples_leaf': [1, 0.1],\n",
    "         'random_state': [42]}\n",
    "cv = model_selection.GridSearchCV(rf4, params, n_jobs = -1).fit(X_train, y_train)\n",
    "print(cv.best_params_)"
   ]
  },
  {
   "cell_type": "code",
   "execution_count": null,
   "id": "12886a90",
   "metadata": {},
   "outputs": [],
   "source": [
    "rf5 = ensemble.RandomForestClassifier(**{'max_features': 'auto', 'min_samples_leaf': 0.1, 'n_estimators': 200, 'random_state': 42})\n",
    "rf5.fit(X_train, y_train)\n",
    "rf5.score(X_test, y_test)"
   ]
  },
  {
   "cell_type": "markdown",
   "id": "913ff233",
   "metadata": {},
   "source": [
    "### Matriz de Confusão"
   ]
  },
  {
   "cell_type": "code",
   "execution_count": null,
   "id": "9ca08866",
   "metadata": {},
   "outputs": [],
   "source": [
    "from sklearn.metrics import confusion_matrix\n",
    "y_pred = rf5.predict(X_test)\n",
    "confusion_matrix(y_test, y_pred)"
   ]
  },
  {
   "cell_type": "code",
   "execution_count": null,
   "id": "12fe5e74",
   "metadata": {},
   "outputs": [],
   "source": [
    "mapping = {0: 'died', 1: 'survived'}\n",
    "fig, ax = plt.subplots(figsize = (6, 6))\n",
    "cm_viz = ConfusionMatrix(rf5, classes = ['died', 'survived'], label_encoder = mapping)\n",
    "cm_viz.score(X_test, y_test)\n",
    "cm_viz.poof()\n",
    "fig.savefig('Desktop\\oreilly\\mlpr_0304.png', dpi = 300, bbox_inches = 'tight')"
   ]
  },
  {
   "cell_type": "markdown",
   "id": "35994835",
   "metadata": {},
   "source": [
    "### Curva ROC"
   ]
  },
  {
   "cell_type": "code",
   "execution_count": null,
   "id": "3f9d32a1",
   "metadata": {},
   "outputs": [],
   "source": [
    "# curva roc - usada para avaliar os classificadores\n",
    "y_pred = rf5.predict(X_test)\n",
    "roc_auc_score(y_test, y_pred)"
   ]
  },
  {
   "cell_type": "code",
   "execution_count": null,
   "id": "72f36140",
   "metadata": {},
   "outputs": [],
   "source": [
    "\"\"\"\n",
    "fig, ax = plt.subplots(figsize = (6, 6))\n",
    "roc_viz = ROCAUC(rf5)\n",
    "roc_viz.score(X_test, y_test)\n",
    "\"\"\""
   ]
  },
  {
   "cell_type": "code",
   "execution_count": null,
   "id": "ad05456a",
   "metadata": {},
   "outputs": [],
   "source": [
    "\"\"\"\n",
    "roc_viz.poof()\n",
    "fig.savefig('Desktop\\oreilly\\mlpr_0305.png')\n",
    "\"\"\""
   ]
  },
  {
   "cell_type": "markdown",
   "id": "dd0001c5",
   "metadata": {},
   "source": [
    "### Curva de aprendizado"
   ]
  },
  {
   "cell_type": "code",
   "execution_count": null,
   "id": "aaa842fc",
   "metadata": {},
   "outputs": [],
   "source": [
    "# usada para nos dizer se temos dados de treinamento suficientes\n",
    "\n",
    "import numpy as np\n",
    "fig, ax = plt.subplots(figsize = (6, 4))\n",
    "cv = StratifiedKFold(12)\n",
    "sizes = np.linspace(0.3, 1.0, 10)\n",
    "lc_viz = LearningCurve(rf5, cv = cv, train_sizes = sizes, scoring = 'f1_weighted', n_jobs = 4, ax = ax)\n",
    "lc_viz.fit(X, y)\n",
    "lc_viz.poof()"
   ]
  },
  {
   "cell_type": "markdown",
   "id": "ecadfde5",
   "metadata": {},
   "source": [
    "# Capítulo 4 - Dados ausentes"
   ]
  },
  {
   "cell_type": "markdown",
   "id": "5bae615d",
   "metadata": {},
   "source": [
    "### Analisando dados ausentes"
   ]
  },
  {
   "cell_type": "code",
   "execution_count": null,
   "id": "c68a02fd",
   "metadata": {},
   "outputs": [],
   "source": [
    "df = orig_df"
   ]
  },
  {
   "cell_type": "code",
   "execution_count": null,
   "id": "0379b002",
   "metadata": {},
   "outputs": [],
   "source": [
    "df.isnull().mean()*100"
   ]
  },
  {
   "cell_type": "code",
   "execution_count": null,
   "id": "3558ac81",
   "metadata": {},
   "outputs": [],
   "source": [
    "import missingno as msno"
   ]
  },
  {
   "cell_type": "code",
   "execution_count": null,
   "id": "d0b6d6cf",
   "metadata": {},
   "outputs": [],
   "source": [
    "ax = msno.matrix(df.sample(500))\n",
    "ax.get_figure()"
   ]
  },
  {
   "cell_type": "code",
   "execution_count": null,
   "id": "200cd08f",
   "metadata": {},
   "outputs": [],
   "source": [
    "fig, ax = plt.subplots(figsize = (6, 4))\n",
    "(1 - df.isnull().mean()).abs().plot.bar(ax = ax)\n",
    "fig"
   ]
  },
  {
   "cell_type": "code",
   "execution_count": null,
   "id": "b102af4e",
   "metadata": {},
   "outputs": [],
   "source": [
    "ax = msno.bar(orig_df.sample(500))\n",
    "ax.get_figure()"
   ]
  },
  {
   "cell_type": "code",
   "execution_count": null,
   "id": "3a92e132",
   "metadata": {},
   "outputs": [],
   "source": [
    "ax = msno.heatmap(df, figsize = (6, 6))\n",
    "ax.get_figure()"
   ]
  },
  {
   "cell_type": "code",
   "execution_count": null,
   "id": "9dbd5f64",
   "metadata": {},
   "outputs": [],
   "source": [
    "ax = msno.dendrogram(df)\n",
    "ax.get_figure()"
   ]
  },
  {
   "cell_type": "markdown",
   "id": "11ced7ac",
   "metadata": {},
   "source": [
    "### Descartando dados ausentes"
   ]
  },
  {
   "cell_type": "code",
   "execution_count": null,
   "id": "e9d91719",
   "metadata": {},
   "outputs": [],
   "source": [
    "# apaga linhas com dados ausentes\n",
    "df1 = df.dropna()"
   ]
  },
  {
   "cell_type": "code",
   "execution_count": null,
   "id": "efc13da1",
   "metadata": {},
   "outputs": [],
   "source": [
    "df1 = df.drop(columns='cabin')"
   ]
  },
  {
   "cell_type": "code",
   "execution_count": null,
   "id": "e8943fee",
   "metadata": {},
   "outputs": [],
   "source": [
    "df1 = df.dropna(axis = 1)"
   ]
  },
  {
   "cell_type": "markdown",
   "id": "b773685b",
   "metadata": {},
   "source": [
    "### Imputando dados"
   ]
  },
  {
   "cell_type": "code",
   "execution_count": null,
   "id": "373e9dc3",
   "metadata": {},
   "outputs": [],
   "source": [
    "from sklearn.impute import SimpleImputer"
   ]
  },
  {
   "cell_type": "code",
   "execution_count": null,
   "id": "246e7697",
   "metadata": {},
   "outputs": [],
   "source": [
    "num_cols = df.select_dtypes(include = 'number').columns\n",
    "im = SimpleImputer() # média\n",
    "imputed = im.fit_transform(df[num_cols])"
   ]
  },
  {
   "cell_type": "markdown",
   "id": "df33b05d",
   "metadata": {},
   "source": [
    "### Acrescentando colunas informativas"
   ]
  },
  {
   "cell_type": "code",
   "execution_count": null,
   "id": "7681094d",
   "metadata": {},
   "outputs": [],
   "source": [
    "def add_indicator(col):\n",
    "    def wrapper(df):\n",
    "        return df[col].isna().astype(int)\n",
    "    return wrapper\n",
    "df1 = df.assign(cabin_missing = add_indicator('cabin'))"
   ]
  },
  {
   "cell_type": "markdown",
   "id": "fd86db32",
   "metadata": {},
   "source": [
    "# Capítulo 5 - Fazendo uma limpeza nos dados"
   ]
  },
  {
   "cell_type": "markdown",
   "id": "d39a0662",
   "metadata": {},
   "source": [
    "### Nomes das colunas"
   ]
  },
  {
   "cell_type": "code",
   "execution_count": null,
   "id": "b1cf62a7",
   "metadata": {},
   "outputs": [],
   "source": [
    "\"\"\"\n",
    "import janitor as jn\n",
    "\n",
    "Xbad = pd.DataFrame({'A': [1, None, 3], ' sales numbers': [20.0, 30.0, None]})\n",
    "jn.clean_names(Xbad)\n",
    "\n",
    "def clean_col(name):\n",
    "    return(name.strip().lower().replace(' ', '_'))\n",
    "\"\"\""
   ]
  },
  {
   "cell_type": "markdown",
   "id": "9ef94651",
   "metadata": {},
   "source": [
    "### Substituindo valores ausentes"
   ]
  },
  {
   "cell_type": "code",
   "execution_count": null,
   "id": "d6c8ad03",
   "metadata": {},
   "outputs": [],
   "source": [
    "\"\"\"\n",
    "jn.coalesce(Xbad, columns = ['A', ' sales numbers '], new_column_name = 'val')\n",
    "val\n",
    "\"\"\""
   ]
  },
  {
   "cell_type": "code",
   "execution_count": null,
   "id": "a35de414",
   "metadata": {},
   "outputs": [],
   "source": [
    "\"\"\" Xbad.fillna(10) \"\"\""
   ]
  },
  {
   "cell_type": "code",
   "execution_count": null,
   "id": "3fc732d0",
   "metadata": {},
   "outputs": [],
   "source": [
    "\"\"\" jn.fill_empty(Xbad, columns = ['A', ' sales numbers '], value = 10) \"\"\""
   ]
  },
  {
   "cell_type": "markdown",
   "id": "8ba24984",
   "metadata": {},
   "source": [
    "# Capítulo 6 - Explorando os dados"
   ]
  },
  {
   "cell_type": "markdown",
   "id": "ba4688a8",
   "metadata": {},
   "source": [
    "### Tamanho dos dados"
   ]
  },
  {
   "cell_type": "code",
   "execution_count": null,
   "id": "36d9aa30",
   "metadata": {},
   "outputs": [],
   "source": [
    "X.shape"
   ]
  },
  {
   "cell_type": "markdown",
   "id": "a196a7d1",
   "metadata": {},
   "source": [
    "### Estatísticas resumidas"
   ]
  },
  {
   "cell_type": "code",
   "execution_count": null,
   "id": "be9d36a9",
   "metadata": {},
   "outputs": [],
   "source": [
    "X.describe().iloc[:, [0, -1]]"
   ]
  },
  {
   "cell_type": "code",
   "execution_count": null,
   "id": "27f13bac",
   "metadata": {},
   "outputs": [],
   "source": [
    "X.iloc[[1, 4], -3:]"
   ]
  },
  {
   "cell_type": "code",
   "execution_count": null,
   "id": "47784952",
   "metadata": {},
   "outputs": [],
   "source": [
    "X.loc[[677, 864], 'sex_female':]"
   ]
  },
  {
   "cell_type": "markdown",
   "id": "d8578ab5",
   "metadata": {},
   "source": [
    "### Histograma"
   ]
  },
  {
   "cell_type": "code",
   "execution_count": null,
   "id": "f6a00659",
   "metadata": {},
   "outputs": [],
   "source": [
    "fig, ax = plt.subplots(figsize = (6, 4))\n",
    "X.fare.plot(kind = 'hist', ax = ax)\n",
    "fig"
   ]
  },
  {
   "cell_type": "code",
   "execution_count": null,
   "id": "c8ae794d",
   "metadata": {},
   "outputs": [],
   "source": [
    "import seaborn as sns"
   ]
  },
  {
   "cell_type": "code",
   "execution_count": null,
   "id": "966ab89f",
   "metadata": {},
   "outputs": [],
   "source": [
    "\"\"\"\n",
    "fig, ax = plt.subplots(figsize = (12, 8))\n",
    "mask = y_train == 1\n",
    "ax = sns.distplot(X_train[mask].fare, label = 'survived')\n",
    "ax = sns.displot(X_train[~mask].fare, label = 'died')\n",
    "ax.set_xlim(-1.5, 1.5)\n",
    "ax.legend()\n",
    "\"\"\""
   ]
  },
  {
   "cell_type": "markdown",
   "id": "4426a8c8",
   "metadata": {},
   "source": [
    "### Gráfico de dispersão"
   ]
  },
  {
   "cell_type": "code",
   "execution_count": null,
   "id": "e7d17cae",
   "metadata": {},
   "outputs": [],
   "source": [
    "fig, ax = plt.subplots(figsize = (6, 4))\n",
    "X.plot.scatter(x = 'age', y = 'fare', ax = ax, alpha = 0.3)"
   ]
  },
  {
   "cell_type": "code",
   "execution_count": null,
   "id": "f8cbb8fe",
   "metadata": {},
   "outputs": [],
   "source": [
    "X.age.corr(X.fare)"
   ]
  },
  {
   "cell_type": "markdown",
   "id": "309f1f80",
   "metadata": {},
   "source": [
    "## Gráfico conjunto"
   ]
  },
  {
   "cell_type": "code",
   "execution_count": null,
   "id": "b82adf52",
   "metadata": {},
   "outputs": [],
   "source": [
    "from yellowbrick.features import JointPlotVisualizer"
   ]
  },
  {
   "cell_type": "code",
   "execution_count": null,
   "id": "9f6dfd14",
   "metadata": {},
   "outputs": [],
   "source": [
    "fig, ax = plt.subplots(figsize = (6, 6))\n",
    "jpv = JointPlotVisualizer(feature = 'age', target = 'fare')\n",
    "jpv.fit(X['age'], X['fare'])\n",
    "jpv.poof()\n",
    "fig.savefig('Desktop\\oreilly\\mlpr_0604.png', dpi = 300)"
   ]
  },
  {
   "cell_type": "code",
   "execution_count": null,
   "id": "ee97f9d2",
   "metadata": {},
   "outputs": [],
   "source": [
    "from seaborn import jointplot"
   ]
  },
  {
   "cell_type": "code",
   "execution_count": null,
   "id": "68f2efe5",
   "metadata": {},
   "outputs": [],
   "source": [
    "\"\"\"\n",
    "fig, ax = plt.subplots(figsize = (6, 6))\n",
    "new_df = X.copy()\n",
    "new_df['target'] = y\n",
    "p = jointplot('age', 'fare', data = new_df, kind = 'reg')\n",
    "p.savefig('Desktop\\oreilly\\mlpr_0605.png', dpi = 300)\n",
    "\"\"\""
   ]
  },
  {
   "cell_type": "markdown",
   "id": "d14355dc",
   "metadata": {},
   "source": [
    "### Matriz de pares"
   ]
  },
  {
   "cell_type": "code",
   "execution_count": null,
   "id": "c4300f98",
   "metadata": {},
   "outputs": [],
   "source": [
    "from seaborn import pairplot"
   ]
  },
  {
   "cell_type": "code",
   "execution_count": null,
   "id": "8494ac88",
   "metadata": {},
   "outputs": [],
   "source": [
    "\"\"\"\n",
    "fig, ax = plt.subplots(figsize = (6, 6))\n",
    "new_df = X.copy()\n",
    "new_df['target'] = y\n",
    "vars = ['pclass', 'age', 'fare']\n",
    "p = pairplot(new_df, vars = vars, hue = 'target', kind = 'reg')\n",
    "p.savefig('Desktop\\oreilly\\mlpr_0606.png', dpi = 300)\n",
    "\"\"\""
   ]
  },
  {
   "cell_type": "markdown",
   "id": "4349aea9",
   "metadata": {},
   "source": [
    "### Gráfico de caixas e gráfico violino"
   ]
  },
  {
   "cell_type": "code",
   "execution_count": null,
   "id": "4281e672",
   "metadata": {},
   "outputs": [],
   "source": [
    "from seaborn import boxplot"
   ]
  },
  {
   "cell_type": "code",
   "execution_count": null,
   "id": "6ad708a3",
   "metadata": {},
   "outputs": [],
   "source": [
    "fig, ax = plt.subplots(figsize = (8, 6))\n",
    "new_df = X.copy()\n",
    "new_df['target'] = y\n",
    "boxplot(x = 'target', y = 'age', data = new_df)\n",
    "fig.savefig('Desktop\\oreilly\\mlpr_0607.png', dpi = 300)"
   ]
  },
  {
   "cell_type": "code",
   "execution_count": null,
   "id": "b1123147",
   "metadata": {},
   "outputs": [],
   "source": [
    "from seaborn import violinplot"
   ]
  },
  {
   "cell_type": "code",
   "execution_count": null,
   "id": "ebb8b3f7",
   "metadata": {},
   "outputs": [],
   "source": [
    "fig, ax = plt.subplots(figsize = (8, 6))\n",
    "new_df = X.copy()\n",
    "new_df['target'] = y\n",
    "violinplot(x = 'target', y = 'sex_female', data = new_df)\n",
    "fig.savefig('Desktop\\oreilly\\mlpr_0608.png', dpi = 300)"
   ]
  },
  {
   "cell_type": "markdown",
   "id": "f7eb0f66",
   "metadata": {},
   "source": [
    "### Comparando dois valores ordinais"
   ]
  },
  {
   "cell_type": "code",
   "execution_count": null,
   "id": "d05bf4df",
   "metadata": {},
   "outputs": [],
   "source": [
    "fig, ax = plt.subplots(figsize = (8, 6))\n",
    "(X.assign(age_bin = pd.qcut(X.age, q = 10, labels = False), class_bin = pd.cut(X.pclass, bins = 3, labels = False)).groupby(\n",
    "['age_bin', 'class_bin']).size().unstack().pipe(lambda df: df.div(df.sum(1), axis = 0)).plot.bar(stacked = True, width = 1, ax = ax, cmap = 'viridis').legend(bbox_to_anchor = (1, 1)))\n",
    "fig.savefig('Desktop\\oreilly\\mlpr_0609.png', dpi = 300, bbox_inches = 'tight')"
   ]
  },
  {
   "cell_type": "markdown",
   "id": "d6dccffd",
   "metadata": {},
   "source": [
    "### Correlação"
   ]
  },
  {
   "cell_type": "code",
   "execution_count": null,
   "id": "0211184d",
   "metadata": {},
   "outputs": [],
   "source": [
    "from yellowbrick.features import Rank2D"
   ]
  },
  {
   "cell_type": "code",
   "execution_count": null,
   "id": "15ccb331",
   "metadata": {},
   "outputs": [],
   "source": [
    "fig, ax = plt.subplots(figsize = (6, 6))\n",
    "pcv = Rank2D(features = X.columns, algorithm = 'pearson')\n",
    "pcv.fit(X, y)\n",
    "pcv.transform(X)\n",
    "pcv.poof()\n",
    "fig.savefig('Desktop\\oreilly\\mlpr_0610.png', dpi = 300, bbox_inches = 'tight')"
   ]
  },
  {
   "cell_type": "code",
   "execution_count": null,
   "id": "952f42c1",
   "metadata": {},
   "outputs": [],
   "source": [
    "from seaborn import heatmap\n",
    "fig, ax = plt.subplots(figsize = (8, 8))\n",
    "ax = heatmap(X.corr(), fmt = '.2f', annot = True, ax = ax, cmap = 'RdBu_r', vmin = -1, vmax = 1)\n",
    "fig.savefig('Desktop\\oreilly\\mlpr_0611.png', dpi = 300, bbox_inches = 'tight')"
   ]
  },
  {
   "cell_type": "code",
   "execution_count": null,
   "id": "c136d7f2",
   "metadata": {},
   "outputs": [],
   "source": [
    "X.corr().iloc[:, :2]"
   ]
  },
  {
   "cell_type": "code",
   "execution_count": null,
   "id": "0e113c06",
   "metadata": {},
   "outputs": [],
   "source": [
    "# colunas com alto grau de correlação não agregam valor e podem prejudicar a interpretação da importância dos atributos e dos coeficientes de regressão."
   ]
  },
  {
   "cell_type": "code",
   "execution_count": null,
   "id": "6d9ac6e0",
   "metadata": {},
   "outputs": [],
   "source": [
    "def correlated_columns(df, threshold = 0.95):\n",
    "    return(\n",
    "        df.corr()\n",
    "        .pipe(\n",
    "            lambda df1: pd.DataFrame(\n",
    "                np.tril(df1, k = -1),\n",
    "                columns = df.columns,\n",
    "                index = df.columns\n",
    "            )\n",
    "        )\n",
    "        .stack()\n",
    "        .rename('pearson')\n",
    "        .pipe(\n",
    "            lambda s: s[\n",
    "                s.abs() > threshold\n",
    "            ].reset_index()\n",
    "        )\n",
    "        .query('level_0 not in level_1')\n",
    "    )\n",
    "correlated_columns(X)"
   ]
  },
  {
   "cell_type": "code",
   "execution_count": null,
   "id": "c7964169",
   "metadata": {},
   "outputs": [],
   "source": [
    "# essa parte do código está apenas no capítulo 8\n",
    "agg = (\n",
    "    df.groupby('cabin')\n",
    "    .agg('min,max,mean,sum'.split(','))\n",
    "    .reset_index()\n",
    ")\n",
    "agg.columns = [\n",
    "    '_'.join(c).strip('_')\n",
    "    for c in agg.columns.values\n",
    "]\n",
    "agg_df = df.merge(agg, on = 'cabin')\n",
    "agg_df\n",
    "###\n",
    "\n",
    "\"\"\"\n",
    "c_df = correlated_columns(agg_df)\n",
    "c_df.style.format({'pearson': '{:.2f}'})\n",
    "\"\"\""
   ]
  },
  {
   "cell_type": "markdown",
   "id": "c63448d4",
   "metadata": {},
   "source": [
    "### RadViz"
   ]
  },
  {
   "cell_type": "code",
   "execution_count": null,
   "id": "8a6b26cc",
   "metadata": {},
   "outputs": [],
   "source": [
    "from yellowbrick.features import RadViz"
   ]
  },
  {
   "cell_type": "code",
   "execution_count": null,
   "id": "5211dabc",
   "metadata": {},
   "outputs": [],
   "source": [
    "fig, ax = plt.subplots(figsize = (6, 6))\n",
    "rv = RadViz(\n",
    "    classes = ['died', 'survived'],\n",
    "    features = X.columns\n",
    ")\n",
    "rv.fit(X, y)\n",
    "_ = rv.transform(X)\n",
    "rv.poof()\n",
    "fig.savefig('Desktop\\oreilly\\mlpr_0612.png', dpi = 300)"
   ]
  },
  {
   "cell_type": "code",
   "execution_count": null,
   "id": "6b622832",
   "metadata": {},
   "outputs": [],
   "source": [
    "from pandas.plotting import radviz"
   ]
  },
  {
   "cell_type": "code",
   "execution_count": null,
   "id": "f4239329",
   "metadata": {},
   "outputs": [],
   "source": [
    "fig, ax = plt.subplots(figsize = (6, 6))\n",
    "new_df = X.copy()\n",
    "new_df['target'] = y\n",
    "radviz(new_df, 'target', ax = ax, colormap = 'PiYG')\n",
    "fig.savefig('Desktop\\oreilly\\mlpr_0613.png', dpi = 300)"
   ]
  },
  {
   "cell_type": "markdown",
   "id": "7b973262",
   "metadata": {},
   "source": [
    "### Coordenadas paralelas"
   ]
  },
  {
   "cell_type": "code",
   "execution_count": null,
   "id": "07dae4ad",
   "metadata": {},
   "outputs": [],
   "source": [
    "from yellowbrick.features import ParallelCoordinates"
   ]
  },
  {
   "cell_type": "code",
   "execution_count": null,
   "id": "bcb92725",
   "metadata": {},
   "outputs": [],
   "source": [
    "fig, ax = plt.subplots(figsize = (6, 4))\n",
    "pc = ParallelCoordinates(\n",
    "    classes = ['died', 'survived'],\n",
    "    features = X.columns\n",
    ")\n",
    "pc.fit(X, y)\n",
    "pc.transform(X)\n",
    "ax.set_xticklabels(\n",
    "    ax.get_xticklabels(), rotation = 45\n",
    ")\n",
    "pc.poof()\n",
    "fig.savefig('Desktop\\oreilly\\mlpr_0614.png', dpi = 300)"
   ]
  },
  {
   "cell_type": "code",
   "execution_count": null,
   "id": "b2058689",
   "metadata": {},
   "outputs": [],
   "source": [
    "from pandas.plotting import parallel_coordinates"
   ]
  },
  {
   "cell_type": "code",
   "execution_count": null,
   "id": "0268fab6",
   "metadata": {},
   "outputs": [],
   "source": [
    "fig, ax = plt.subplots(figsize = (6, 4))\n",
    "new_df = X.copy()\n",
    "new_df['target'] = y\n",
    "parallel_coordinates(\n",
    "    new_df,\n",
    "    'target',\n",
    "    ax = ax,\n",
    "    colormap = 'viridis',\n",
    "    alpha = 0.5\n",
    ")\n",
    "ax.set_xticklabels(\n",
    "    ax.get_xticklabels(), rotation = 45\n",
    ")\n",
    "fig.savefig('Desktop\\oreilly\\mlpr_0615.png', dpi = 300)"
   ]
  },
  {
   "cell_type": "markdown",
   "id": "e1f165b8",
   "metadata": {},
   "source": [
    "# Capítulo 7 - Pré-processamento dos dados"
   ]
  },
  {
   "cell_type": "code",
   "execution_count": null,
   "id": "9fe2dbb7",
   "metadata": {},
   "outputs": [],
   "source": [
    "X2 = pd.DataFrame(\n",
    "    {\n",
    "        'a': range(5),\n",
    "        'b': [-100, -50, 0, 200, 1000]\n",
    "    }\n",
    ")\n",
    "X2"
   ]
  },
  {
   "cell_type": "markdown",
   "id": "db3f7519",
   "metadata": {},
   "source": [
    "### Padronize os dados"
   ]
  },
  {
   "cell_type": "code",
   "execution_count": null,
   "id": "6a82624b",
   "metadata": {},
   "outputs": [],
   "source": [
    "from sklearn import preprocessing"
   ]
  },
  {
   "cell_type": "code",
   "execution_count": null,
   "id": "cfd4d607",
   "metadata": {},
   "outputs": [],
   "source": [
    "std = preprocessing.StandardScaler()\n",
    "std.fit_transform(X2)"
   ]
  },
  {
   "cell_type": "code",
   "execution_count": null,
   "id": "4a857c36",
   "metadata": {},
   "outputs": [],
   "source": [
    "std.scale_"
   ]
  },
  {
   "cell_type": "code",
   "execution_count": null,
   "id": "2ea34bee",
   "metadata": {},
   "outputs": [],
   "source": [
    "std.mean_"
   ]
  },
  {
   "cell_type": "code",
   "execution_count": null,
   "id": "64e1cc5b",
   "metadata": {},
   "outputs": [],
   "source": [
    "std.var_"
   ]
  },
  {
   "cell_type": "code",
   "execution_count": null,
   "id": "7061f3ad",
   "metadata": {},
   "outputs": [],
   "source": [
    "# fazendo com pandas\n",
    "X_std = (X2 - X2.mean()) / X2.std()\n",
    "X_std"
   ]
  },
  {
   "cell_type": "code",
   "execution_count": null,
   "id": "d27e0833",
   "metadata": {},
   "outputs": [],
   "source": [
    "X_std.mean()"
   ]
  },
  {
   "cell_type": "code",
   "execution_count": null,
   "id": "1a0bd481",
   "metadata": {},
   "outputs": [],
   "source": [
    "X_std.std()"
   ]
  },
  {
   "cell_type": "code",
   "execution_count": null,
   "id": "e687ad51",
   "metadata": {},
   "outputs": [],
   "source": [
    "\"\"\" \n",
    "# fazendo com biblioteca fastai \n",
    "X3 = X2.copy()\n",
    "from fastai.tabular import scale_vars\n",
    "scale_vars(X3, mapper = None)\n",
    "X3.std()\n",
    "X3.mean()\n",
    "\"\"\""
   ]
  },
  {
   "cell_type": "markdown",
   "id": "d3c2fae6",
   "metadata": {},
   "source": [
    "### Escale para um intervalo"
   ]
  },
  {
   "cell_type": "code",
   "execution_count": null,
   "id": "ca868a58",
   "metadata": {},
   "outputs": [],
   "source": [
    "from sklearn import preprocessing"
   ]
  },
  {
   "cell_type": "code",
   "execution_count": null,
   "id": "a94e8503",
   "metadata": {},
   "outputs": [],
   "source": [
    "mms = preprocessing.MinMaxScaler()\n",
    "mms.fit(X2)\n",
    "mms.transform(X2)"
   ]
  },
  {
   "cell_type": "code",
   "execution_count": null,
   "id": "c0ccb15d",
   "metadata": {},
   "outputs": [],
   "source": [
    "# pandas\n",
    "(X2 - X2.min()) / (X2.max() - X2.min())"
   ]
  },
  {
   "cell_type": "markdown",
   "id": "c25b138d",
   "metadata": {},
   "source": [
    "### Variáveis Dummy"
   ]
  },
  {
   "cell_type": "code",
   "execution_count": null,
   "id": "b63c1403",
   "metadata": {},
   "outputs": [],
   "source": [
    "# também conhecido como one-hot encoding ou indicator encoding\n",
    "\n",
    "X_cat = pd.DataFrame(\n",
    "    {\n",
    "        'name': ['George', 'Paul'],\n",
    "        'inst': ['Bass', 'Guitar']\n",
    "    }\n",
    ")\n",
    "X_cat"
   ]
  },
  {
   "cell_type": "code",
   "execution_count": null,
   "id": "efa255b6",
   "metadata": {},
   "outputs": [],
   "source": [
    "pd.get_dummies(X_cat, drop_first = True)"
   ]
  },
  {
   "cell_type": "code",
   "execution_count": null,
   "id": "c3a72f4c",
   "metadata": {},
   "outputs": [],
   "source": [
    "\"\"\"\n",
    "import janitor as jn\n",
    "X_cat2 = pd.DataFrame(\n",
    "    {\n",
    "        'A': [1, None, 3],\n",
    "        'names': [\n",
    "            'Fred,George',\n",
    "            'George',\n",
    "            'John,Paul'\n",
    "        ]\n",
    "    }\n",
    ")\n",
    "jn.expand_columns(X_cat2, 'names', sep = ',')\n",
    "\"\"\""
   ]
  },
  {
   "cell_type": "markdown",
   "id": "4992ac3b",
   "metadata": {},
   "source": [
    "### Codificador de rótulos"
   ]
  },
  {
   "cell_type": "code",
   "execution_count": null,
   "id": "def52d67",
   "metadata": {},
   "outputs": [],
   "source": [
    "from sklearn import preprocessing\n",
    "\n",
    "lab = preprocessing.LabelEncoder()\n",
    "\"\"\" lab.fit_transform(X_cat) \"\"\""
   ]
  },
  {
   "cell_type": "code",
   "execution_count": null,
   "id": "6abc6d8d",
   "metadata": {},
   "outputs": [],
   "source": [
    "\"\"\" lab.inverse_transform([1, 1, 0]) \"\"\""
   ]
  },
  {
   "cell_type": "code",
   "execution_count": null,
   "id": "796744ec",
   "metadata": {},
   "outputs": [],
   "source": [
    "X_cat.name.astype(\n",
    "    'category'\n",
    ").cat.as_ordered().cat.codes + 1"
   ]
  },
  {
   "cell_type": "markdown",
   "id": "754d205a",
   "metadata": {},
   "source": [
    "### Codificação de frequência"
   ]
  },
  {
   "cell_type": "code",
   "execution_count": null,
   "id": "c850b6fb",
   "metadata": {},
   "outputs": [],
   "source": [
    "mapping = X_cat.name.value_counts()\n",
    "X_cat.name.map(mapping)"
   ]
  },
  {
   "cell_type": "markdown",
   "id": "a75dd887",
   "metadata": {},
   "source": [
    "### Extraindo categorias a partir de strings"
   ]
  },
  {
   "cell_type": "code",
   "execution_count": null,
   "id": "b7084e32",
   "metadata": {},
   "outputs": [],
   "source": [
    "from collections import Counter"
   ]
  },
  {
   "cell_type": "code",
   "execution_count": null,
   "id": "a12532aa",
   "metadata": {},
   "outputs": [],
   "source": [
    "c = Counter()\n",
    "def triples(val):\n",
    "    for i in range(len(val)):\n",
    "        c[val[i : i+3]] += 1\n",
    "df.name.apply(triples)"
   ]
  },
  {
   "cell_type": "code",
   "execution_count": null,
   "id": "fe9497b6",
   "metadata": {},
   "outputs": [],
   "source": [
    "c.most_common(10)"
   ]
  },
  {
   "cell_type": "code",
   "execution_count": null,
   "id": "9cc5d211",
   "metadata": {},
   "outputs": [],
   "source": [
    "df.name.str.extract(\n",
    "    '([A-Za-z]+)\\.', expand = False\n",
    ").head()"
   ]
  },
  {
   "cell_type": "code",
   "execution_count": null,
   "id": "80d5c2b8",
   "metadata": {},
   "outputs": [],
   "source": [
    "df.name.str.extract(\n",
    "    '([A-Za-z]+)\\.', expand = False\n",
    ").value_counts()"
   ]
  },
  {
   "cell_type": "markdown",
   "id": "a0f436c9",
   "metadata": {},
   "source": [
    "### Outras codificações de categoria"
   ]
  },
  {
   "cell_type": "code",
   "execution_count": null,
   "id": "19fa9390",
   "metadata": {},
   "outputs": [],
   "source": [
    "import category_encoders as ce"
   ]
  },
  {
   "cell_type": "code",
   "execution_count": null,
   "id": "56999caa",
   "metadata": {},
   "outputs": [],
   "source": [
    "he = ce.HashingEncoder(verbose = 1)\n",
    "he.fit_transform(X_cat)"
   ]
  },
  {
   "cell_type": "code",
   "execution_count": null,
   "id": "3c9fe297",
   "metadata": {},
   "outputs": [],
   "source": [
    "size_df = pd.DataFrame(\n",
    "    {\n",
    "        'name': ['Fred', 'John', 'Matt'],\n",
    "        'size': ['small', 'med', 'xxl']\n",
    "    }\n",
    ")\n",
    "ore = ce.OrdinalEncoder(\n",
    "    mapping = [\n",
    "        {\n",
    "            'col': 'size',\n",
    "            'mapping': {\n",
    "                'small': 1,\n",
    "                'med': 2,\n",
    "                'lg': 3\n",
    "            }\n",
    "        }\n",
    "    ]\n",
    ")\n",
    "ore.fit_transform(size_df)"
   ]
  },
  {
   "cell_type": "code",
   "execution_count": null,
   "id": "59063407",
   "metadata": {},
   "outputs": [],
   "source": [
    "def get_title(df):\n",
    "    return df.name.str.extract(\n",
    "        '([A-Za-z]+)\\.', expand = False\n",
    "    )\n",
    "te = ce.TargetEncoder(cols = 'Title')\n",
    "te.fit_transform(\n",
    "    df.assign(Title = get_title), df.survived\n",
    ")['Title'].head()"
   ]
  },
  {
   "cell_type": "markdown",
   "id": "2672d2d8",
   "metadata": {},
   "source": [
    "### Engenharia de dados para datas"
   ]
  },
  {
   "cell_type": "code",
   "execution_count": null,
   "id": "8ab5d818",
   "metadata": {},
   "outputs": [],
   "source": [
    "\"\"\" from fastai.tabular.transform import add_datepart \"\"\""
   ]
  },
  {
   "cell_type": "code",
   "execution_count": null,
   "id": "80b11c11",
   "metadata": {},
   "outputs": [],
   "source": [
    "\"\"\"\n",
    "dates = pd.DataFrame(\n",
    "    {\n",
    "        'A': pd.to_datetime(\n",
    "            ['9/17/2001', 'Jan 1, 2002']\n",
    "        )\n",
    "    }\n",
    ")\n",
    "add_datepart(dates, 'A')\n",
    "dates.T\n",
    "\"\"\""
   ]
  },
  {
   "cell_type": "markdown",
   "id": "22b0208d",
   "metadata": {},
   "source": [
    "### Adição do atributo col_na"
   ]
  },
  {
   "cell_type": "code",
   "execution_count": null,
   "id": "f69c93cf",
   "metadata": {},
   "outputs": [],
   "source": [
    "from pandas.api.types import is_numeric_dtype"
   ]
  },
  {
   "cell_type": "code",
   "execution_count": null,
   "id": "11780b25",
   "metadata": {},
   "outputs": [],
   "source": [
    "def fix_missing(df, col, name, na_dict):\n",
    "    if is_numeric_dtype(col):\n",
    "        if pd.isnull(col).sum() or (\n",
    "            name in na_dict\n",
    "        ):\n",
    "            df[name + '_na'] = pd.isnull(col)\n",
    "            filler = (\n",
    "                na_dict[name]\n",
    "                if name in na_dict\n",
    "                else col.median()\n",
    "            )\n",
    "            df[name] = col.fillna(filler)\n",
    "            na_dict[name] = filler\n",
    "    return na_dict\n",
    "data = pd.DataFrame({'A': [0, None, 5, 100]})\n",
    "fix_missing(data, data.A, 'A', {})\n",
    "data"
   ]
  },
  {
   "cell_type": "code",
   "execution_count": null,
   "id": "5722cf38",
   "metadata": {},
   "outputs": [],
   "source": [
    "data = pd.DataFrame({'A': [0, None, 5, 100]})\n",
    "data['A_na'] = data.A.isnull()\n",
    "data['A'] = data.A.fillna(data.A.median())\n",
    "data"
   ]
  },
  {
   "cell_type": "markdown",
   "id": "2e72586e",
   "metadata": {},
   "source": [
    "### Engenharia de dados manual"
   ]
  },
  {
   "cell_type": "code",
   "execution_count": null,
   "id": "8e0355fa",
   "metadata": {},
   "outputs": [],
   "source": [
    "agg = (\n",
    "    df.groupby('cabin')\n",
    "    .agg('min,max,mean,sum'.split(','))\n",
    "    .reset_index()\n",
    ")\n",
    "agg.columns = [\n",
    "    '_'.join(c).strip('_')\n",
    "    for c in agg.columns.values\n",
    "]\n",
    "agg_df = df.merge(agg, on = 'cabin')\n",
    "agg_df"
   ]
  },
  {
   "cell_type": "markdown",
   "id": "924b3a3a",
   "metadata": {},
   "source": [
    "# Capítulo 8 - Seleção de atributos"
   ]
  },
  {
   "cell_type": "markdown",
   "id": "3f620da6",
   "metadata": {},
   "source": [
    "### Colunas colineares"
   ]
  },
  {
   "cell_type": "code",
   "execution_count": null,
   "id": "ed30c16d",
   "metadata": {},
   "outputs": [],
   "source": [
    "limit = 0.95\n",
    "corr = agg_df.corr()\n",
    "mask = np.triu(\n",
    "    np.ones(corr.shape), k = 1\n",
    ").astype(bool)\n",
    "corr_no_diag = corr.where(mask)\n",
    "coll = [\n",
    "    c\n",
    "    for c in corr_no_diag.columns\n",
    "    if any(abs(corr_no_diag[c]) > limit) # aqui o livro diz threshold, mas é limit\n",
    "]\n",
    "coll"
   ]
  },
  {
   "cell_type": "code",
   "execution_count": null,
   "id": "2783fcf8",
   "metadata": {},
   "outputs": [],
   "source": [
    "\"\"\"\n",
    "rfpimp.plot_dependence_heatmap(\n",
    "    rfpimp.feature_dependence_matrix(X_train),\n",
    "    value_fontsize = 12,\n",
    "    label_fontsize = 14,\n",
    "    figsize = (8,8), sn\n",
    ")\n",
    "fig = plt.gcf()\n",
    "fig.savefig('Desktop\\oreilly\\mlpr_0801.png', dpi = 300, bbox_inches = 'tight')\n",
    "\"\"\""
   ]
  },
  {
   "cell_type": "code",
   "execution_count": null,
   "id": "bf80f72d",
   "metadata": {},
   "outputs": [],
   "source": [
    "cols_to_remove = ['pclass', 'sibsp', 'parch', 'embarked_Q']"
   ]
  },
  {
   "cell_type": "code",
   "execution_count": null,
   "id": "c87a6c64",
   "metadata": {},
   "outputs": [],
   "source": [
    "rf3 = RandomForestClassifier(random_state = 42)\n",
    "rf3.fit(\n",
    "    X_train[\n",
    "        [\n",
    "            c\n",
    "            for c in X_train.columns\n",
    "            if c not in cols_to_remove\n",
    "        ]\n",
    "    ],\n",
    "    y_train\n",
    ")\n",
    "rf3.score(\n",
    "    X_test[\n",
    "        [\n",
    "            c\n",
    "            for c in X_train.columns\n",
    "            if c not in cols_to_remove\n",
    "        ]\n",
    "    ],\n",
    "    y_test,\n",
    ")"
   ]
  },
  {
   "cell_type": "code",
   "execution_count": null,
   "id": "61b24d03",
   "metadata": {},
   "outputs": [],
   "source": [
    "rf4 = RandomForestClassifier(random_state = 42)\n",
    "rf4.fit(X_train, y_train)\n",
    "rf4.score(X_test, y_test)"
   ]
  },
  {
   "cell_type": "markdown",
   "id": "25751abb",
   "metadata": {},
   "source": [
    "### Regressão Lasso"
   ]
  },
  {
   "cell_type": "code",
   "execution_count": null,
   "id": "7b9befb6",
   "metadata": {},
   "outputs": [],
   "source": [
    "from sklearn import linear_model\n",
    "from sklearn.pipeline import make_pipeline"
   ]
  },
  {
   "cell_type": "code",
   "execution_count": null,
   "id": "1a56bb9b",
   "metadata": {},
   "outputs": [],
   "source": [
    "\"\"\"\n",
    "model = make_pipeline(StandardScaler(with_mean=False), LassoLarsCV())\n",
    "#model = linear_model.LassoLarsCV(cv = 10, max_n_alphas = 10).fit(X_train, y_train)\n",
    "fig, ax = plt.subplots(figsize = (12, 8))\n",
    "cm = iter(\n",
    "    plt.get_cmap('tab20')(\n",
    "        np.linspace(0, 1, X.shape[1])\n",
    "    )\n",
    ")\n",
    "for i in range(X.shape[1]):\n",
    "    c = next(cm)\n",
    "    ax.plot(\n",
    "        model.alphas_,\n",
    "        model.coef_path_.T[:, i],\n",
    "        c = c,\n",
    "        alpha = 0.8,\n",
    "        label = X.columns[i]\n",
    "    )\n",
    "ax.axvline(\n",
    "    model.alpha_,\n",
    "    linestyle = '-',\n",
    "    c = 'k',\n",
    "    label = 'alphaCV'\n",
    ")\n",
    "plt.ylabel('Regression Coefficients')\n",
    "ax.legend(X.columns, bbox_to_anchor = (1, 1))\n",
    "plt.xlabel('alpha')\n",
    "plt.title(\n",
    "    'Regression Coefficients Progression for Lasso Paths'\n",
    ")\n",
    "fig.savefig('Desktop\\oreilly\\mlpr_0802.png',\n",
    "    dpi = 300,\n",
    "    bbox_inches = 'tight'\n",
    ")\n",
    "\"\"\""
   ]
  },
  {
   "cell_type": "markdown",
   "id": "19119674",
   "metadata": {},
   "source": [
    "### Eliminação recursiva de atributos"
   ]
  },
  {
   "cell_type": "code",
   "execution_count": null,
   "id": "20cbb751",
   "metadata": {},
   "outputs": [],
   "source": [
    "from yellowbrick.features import RFECV"
   ]
  },
  {
   "cell_type": "code",
   "execution_count": null,
   "id": "90167f99",
   "metadata": {},
   "outputs": [],
   "source": [
    "fig, ax = plt.subplots(figsize = (6, 4))\n",
    "rfe = RFECV(\n",
    "    ensemble.RandomForestClassifier(\n",
    "        n_estimators = 100\n",
    "    ),\n",
    "    cv = 5\n",
    ")\n",
    "rfe.fit(X, y)\n",
    "rfe.rfe_estimator_.ranking_"
   ]
  },
  {
   "cell_type": "code",
   "execution_count": null,
   "id": "ac56c77d",
   "metadata": {},
   "outputs": [],
   "source": [
    "rfe.rfe_estimator_.n_features_"
   ]
  },
  {
   "cell_type": "code",
   "execution_count": null,
   "id": "2a9f0367",
   "metadata": {},
   "outputs": [],
   "source": [
    "rfe.rfe_estimator_.support_"
   ]
  },
  {
   "cell_type": "code",
   "execution_count": null,
   "id": "a83be7c8",
   "metadata": {},
   "outputs": [],
   "source": [
    "rfe.poof()\n",
    "fig.savefig('Desktop\\oreilly\\mlpr_0803.png', dpi = 300)"
   ]
  },
  {
   "cell_type": "code",
   "execution_count": null,
   "id": "4ed80ae0",
   "metadata": {},
   "outputs": [],
   "source": [
    "from sklearn.feature_selection import RFE"
   ]
  },
  {
   "cell_type": "code",
   "execution_count": null,
   "id": "b7c11844",
   "metadata": {},
   "outputs": [],
   "source": [
    "\"\"\"\n",
    "model = ensemble.RandomForestClassifier(\n",
    "    n_estimators = 100\n",
    ")\n",
    "rfe = RFE(model, 4)\n",
    "rfe.fit(X, y)\n",
    "agg_X.columns[rfe.support_]\n",
    "\"\"\""
   ]
  },
  {
   "cell_type": "markdown",
   "id": "2c9e312a",
   "metadata": {},
   "source": [
    "### Informações mútuas"
   ]
  },
  {
   "cell_type": "code",
   "execution_count": null,
   "id": "d7ba3276",
   "metadata": {},
   "outputs": [],
   "source": [
    "from sklearn import feature_selection"
   ]
  },
  {
   "cell_type": "code",
   "execution_count": null,
   "id": "ec77e8a4",
   "metadata": {},
   "outputs": [],
   "source": [
    "mic = feature_selection.mutual_info_classif(\n",
    "    X, y\n",
    ")\n",
    "fig, ax = plt.subplots(figsize = (10, 8))\n",
    "(\n",
    "    pd.DataFrame(\n",
    "        {'feature': X.columns, 'vimp': mic}\n",
    "    )\n",
    "    .set_index('feature')\n",
    "    .plot.barh(ax = ax)\n",
    ")\n",
    "fig.savefig('Desktop\\oreilly\\mlpr_0804.png')"
   ]
  },
  {
   "cell_type": "markdown",
   "id": "ac4f7260",
   "metadata": {},
   "source": [
    "# Capítulo 9 - Classes desbalanceadas"
   ]
  },
  {
   "cell_type": "markdown",
   "id": "f8f4465a",
   "metadata": {},
   "source": [
    "### Use uma métrica diferente"
   ]
  },
  {
   "cell_type": "markdown",
   "id": "55e9a1b7",
   "metadata": {},
   "source": [
    "### Algoritmos baseados em árvores e ensembles"
   ]
  },
  {
   "cell_type": "markdown",
   "id": "fb802e25",
   "metadata": {},
   "source": [
    "### Modelos de penalização"
   ]
  },
  {
   "cell_type": "markdown",
   "id": "323614dc",
   "metadata": {},
   "source": [
    "### Upsampling da minoria"
   ]
  },
  {
   "cell_type": "code",
   "execution_count": null,
   "id": "0cf64493",
   "metadata": {},
   "outputs": [],
   "source": [
    "from sklearn.utils import resample"
   ]
  },
  {
   "cell_type": "code",
   "execution_count": null,
   "id": "69b2ea0b",
   "metadata": {},
   "outputs": [],
   "source": [
    "mask = df.survived == 1\n",
    "surv_df = df[mask]\n",
    "death_df = df[~mask]\n",
    "df_upsample = resample(\n",
    "    surv_df,\n",
    "    replace = True,\n",
    "    n_samples = len(death_df),\n",
    "    random_state = 42\n",
    ")\n",
    "df2 = pd.concat([death_df, df_upsample])\n",
    "df2.survived.value_counts()"
   ]
  },
  {
   "cell_type": "code",
   "execution_count": null,
   "id": "30f58cce",
   "metadata": {},
   "outputs": [],
   "source": [
    "from imblearn.over_sampling import RandomOverSampler"
   ]
  },
  {
   "cell_type": "code",
   "execution_count": null,
   "id": "e6fa8b54",
   "metadata": {},
   "outputs": [],
   "source": [
    "ros = RandomOverSampler(random_state = 42)\n",
    "X_ros, y_ros = ros.fit_resample(X, y)\n",
    "pd.Series(y_ros).value_counts()"
   ]
  },
  {
   "cell_type": "markdown",
   "id": "c045c824",
   "metadata": {},
   "source": [
    "### Gerando dados de minoria"
   ]
  },
  {
   "cell_type": "code",
   "execution_count": null,
   "id": "64dc7b6f",
   "metadata": {},
   "outputs": [],
   "source": [
    "# SMOTE - Synthetic Minority Oversampling Technique -> over_sampling.SMOTE\n",
    "# ADASYN - Adaptive Synthetic -> over_sampling_ADASYN"
   ]
  },
  {
   "cell_type": "markdown",
   "id": "b2c00309",
   "metadata": {},
   "source": [
    "### Downsampling da maioria"
   ]
  },
  {
   "cell_type": "code",
   "execution_count": null,
   "id": "0a22142c",
   "metadata": {},
   "outputs": [],
   "source": [
    "from sklearn.utils import resample"
   ]
  },
  {
   "cell_type": "code",
   "execution_count": null,
   "id": "387ebd1d",
   "metadata": {},
   "outputs": [],
   "source": [
    "mask = df.survived == 1\n",
    "surv_df = df[mask]\n",
    "death_df = df[~mask]\n",
    "df_downsample = resample(\n",
    "    death_df,\n",
    "    replace = False,\n",
    "    n_samples = len(surv_df),\n",
    "    random_state = 42\n",
    ")\n",
    "df3 = pd.concat([surv_df, df_downsample])\n",
    "df3.survived.value_counts()"
   ]
  },
  {
   "cell_type": "markdown",
   "id": "1d53f78a",
   "metadata": {},
   "source": [
    "# Capítulo 10 - Classificação"
   ]
  },
  {
   "cell_type": "code",
   "execution_count": null,
   "id": "0b648e25",
   "metadata": {},
   "outputs": [],
   "source": [
    "# fit(X, y[, sample_weight]) - > faz a adequação do modelo\n",
    "# predict(X) -> faz a predição de classes\n",
    "# predict_log_proba(X) - > faz a predição do logaritmo das probabilidades\n",
    "# predic_proba(X) -> faz a predição da probabilidade\n",
    "# score(X, y[, sample_weight]) -> obtém a precisão (accuracy)"
   ]
  },
  {
   "cell_type": "markdown",
   "id": "5089035d",
   "metadata": {},
   "source": [
    "### Regressão Logística"
   ]
  },
  {
   "cell_type": "code",
   "execution_count": null,
   "id": "1abcaf91",
   "metadata": {},
   "outputs": [],
   "source": [
    "from sklearn.linear_model import LogisticRegression"
   ]
  },
  {
   "cell_type": "code",
   "execution_count": null,
   "id": "063ca719",
   "metadata": {},
   "outputs": [],
   "source": [
    "lr = LogisticRegression(random_state = 42)\n",
    "lr.fit(X_train, y_train)"
   ]
  },
  {
   "cell_type": "code",
   "execution_count": null,
   "id": "e54e7788",
   "metadata": {},
   "outputs": [],
   "source": [
    "lr.score(X_test, y_test)"
   ]
  },
  {
   "cell_type": "code",
   "execution_count": null,
   "id": "338acd35",
   "metadata": {},
   "outputs": [],
   "source": [
    "lr.predict(X.iloc[[0]])"
   ]
  },
  {
   "cell_type": "code",
   "execution_count": null,
   "id": "b545c9ab",
   "metadata": {},
   "outputs": [],
   "source": [
    "lr.predict_proba(X.iloc[[0]])"
   ]
  },
  {
   "cell_type": "code",
   "execution_count": null,
   "id": "5e2891c0",
   "metadata": {},
   "outputs": [],
   "source": [
    "lr.predict_log_proba(X.iloc[[0]])"
   ]
  },
  {
   "cell_type": "code",
   "execution_count": null,
   "id": "fe139ec6",
   "metadata": {},
   "outputs": [],
   "source": [
    "lr.decision_function(X.iloc[[0]])"
   ]
  },
  {
   "cell_type": "code",
   "execution_count": null,
   "id": "aeee2aaa",
   "metadata": {},
   "outputs": [],
   "source": [
    "lr.intercept_"
   ]
  },
  {
   "cell_type": "code",
   "execution_count": null,
   "id": "cdf8753e",
   "metadata": {},
   "outputs": [],
   "source": [
    "def inv_logit(p):\n",
    "    return np.exp(p) / (1 + np.exp(p))\n",
    "inv_logit(lr.intercept_)"
   ]
  },
  {
   "cell_type": "code",
   "execution_count": null,
   "id": "a8aeec88",
   "metadata": {},
   "outputs": [],
   "source": [
    "cols = X.columns\n",
    "for col, val in sorted(\n",
    "    zip(cols, lr.coef_[0]),\n",
    "    key = lambda x: x[1],\n",
    "    reverse = True\n",
    "):\n",
    "    print(f'{col:10}{val:10.3f} {inv_logit(val):10.3f}')"
   ]
  },
  {
   "cell_type": "code",
   "execution_count": null,
   "id": "f20eb655",
   "metadata": {},
   "outputs": [],
   "source": [
    "from yellowbrick.model_selection import FeatureImportances"
   ]
  },
  {
   "cell_type": "code",
   "execution_count": null,
   "id": "06e3e068",
   "metadata": {},
   "outputs": [],
   "source": [
    "fig, ax = plt.subplots(figsize = (6 ,4))\n",
    "fi_viz = FeatureImportances(lr)\n",
    "fi_viz.fit(X, y)\n",
    "fi_viz.poof()\n",
    "fig.savefig('Desktop\\oreilly\\mlpr_0804.png', dpi = 300)"
   ]
  },
  {
   "cell_type": "markdown",
   "id": "69318a97",
   "metadata": {},
   "source": [
    "### Naive Bayes"
   ]
  },
  {
   "cell_type": "code",
   "execution_count": null,
   "id": "46c1655d",
   "metadata": {},
   "outputs": [],
   "source": [
    "# GaussianNB, MultinomialNB, BernoulliNB"
   ]
  },
  {
   "cell_type": "code",
   "execution_count": null,
   "id": "faa4ec4f",
   "metadata": {},
   "outputs": [],
   "source": [
    "from sklearn.naive_bayes import GaussianNB"
   ]
  },
  {
   "cell_type": "code",
   "execution_count": null,
   "id": "a48e659e",
   "metadata": {},
   "outputs": [],
   "source": [
    "nb = GaussianNB()\n",
    "nb.fit(X_train, y_train)"
   ]
  },
  {
   "cell_type": "code",
   "execution_count": null,
   "id": "44462c79",
   "metadata": {},
   "outputs": [],
   "source": [
    "nb.score(X_test, y_test)"
   ]
  },
  {
   "cell_type": "code",
   "execution_count": null,
   "id": "02866173",
   "metadata": {},
   "outputs": [],
   "source": [
    "nb.predict(X.iloc[[0]])"
   ]
  },
  {
   "cell_type": "code",
   "execution_count": null,
   "id": "cbfb6790",
   "metadata": {},
   "outputs": [],
   "source": [
    "nb.predict_proba(X.iloc[[0]])"
   ]
  },
  {
   "cell_type": "code",
   "execution_count": null,
   "id": "cae98c71",
   "metadata": {},
   "outputs": [],
   "source": [
    "nb.predict_log_proba(X.iloc[[0]])"
   ]
  },
  {
   "cell_type": "markdown",
   "id": "6252ef4b",
   "metadata": {},
   "source": [
    "### Máquinas de vetores de suporte"
   ]
  },
  {
   "cell_type": "code",
   "execution_count": null,
   "id": "b14c6caf",
   "metadata": {},
   "outputs": [],
   "source": [
    "from sklearn.svm import SVC"
   ]
  },
  {
   "cell_type": "code",
   "execution_count": null,
   "id": "9356f2cc",
   "metadata": {},
   "outputs": [],
   "source": [
    "svc = SVC(random_state = 42, probability = True)\n",
    "svc.fit(X_train, y_train)"
   ]
  },
  {
   "cell_type": "code",
   "execution_count": null,
   "id": "76a508c5",
   "metadata": {},
   "outputs": [],
   "source": [
    "svc.score(X_test, y_test)"
   ]
  },
  {
   "cell_type": "code",
   "execution_count": null,
   "id": "563c16d6",
   "metadata": {},
   "outputs": [],
   "source": [
    "svc.predict(X.iloc[[0]])"
   ]
  },
  {
   "cell_type": "code",
   "execution_count": null,
   "id": "b9b1a330",
   "metadata": {},
   "outputs": [],
   "source": [
    "svc.predict_proba(X.iloc[[0]])"
   ]
  },
  {
   "cell_type": "code",
   "execution_count": null,
   "id": "814fec8a",
   "metadata": {},
   "outputs": [],
   "source": [
    "svc.predict_log_proba(X.iloc[[0]])"
   ]
  },
  {
   "cell_type": "markdown",
   "id": "e6b3594a",
   "metadata": {},
   "source": [
    "### K vizinhos mais próximos"
   ]
  },
  {
   "cell_type": "code",
   "execution_count": null,
   "id": "5f19cc5e",
   "metadata": {},
   "outputs": [],
   "source": [
    "from sklearn.neighbors import KNeighborsClassifier"
   ]
  },
  {
   "cell_type": "code",
   "execution_count": null,
   "id": "1c7c59e8",
   "metadata": {},
   "outputs": [],
   "source": [
    "knc = KNeighborsClassifier()\n",
    "knc.fit(X_train, y_train)"
   ]
  },
  {
   "cell_type": "code",
   "execution_count": null,
   "id": "84a11228",
   "metadata": {},
   "outputs": [],
   "source": [
    "knc.score(X_test, y_test)"
   ]
  },
  {
   "cell_type": "code",
   "execution_count": null,
   "id": "482c0532",
   "metadata": {},
   "outputs": [],
   "source": [
    "knc.predict(X.iloc[[0]])"
   ]
  },
  {
   "cell_type": "code",
   "execution_count": null,
   "id": "d56d96b5",
   "metadata": {},
   "outputs": [],
   "source": [
    "knc.predict_proba(X.iloc[[0]])"
   ]
  },
  {
   "cell_type": "markdown",
   "id": "f936bb3b",
   "metadata": {},
   "source": [
    "### Árvore de Decisão"
   ]
  },
  {
   "cell_type": "code",
   "execution_count": null,
   "id": "6bfa8959",
   "metadata": {},
   "outputs": [],
   "source": [
    "from sklearn.tree import DecisionTreeClassifier"
   ]
  },
  {
   "cell_type": "code",
   "execution_count": null,
   "id": "719ebdff",
   "metadata": {},
   "outputs": [],
   "source": [
    "dt = DecisionTreeClassifier(\n",
    "    random_state = 42, max_depth = 3\n",
    ")\n",
    "dt.fit(X_train, y_train)"
   ]
  },
  {
   "cell_type": "code",
   "execution_count": null,
   "id": "5cfa5b7a",
   "metadata": {},
   "outputs": [],
   "source": [
    "dt.score(X_test, y_test)"
   ]
  },
  {
   "cell_type": "code",
   "execution_count": null,
   "id": "9d9d59df",
   "metadata": {},
   "outputs": [],
   "source": [
    "dt.predict(X.iloc[[0]])"
   ]
  },
  {
   "cell_type": "code",
   "execution_count": null,
   "id": "8430e7ce",
   "metadata": {},
   "outputs": [],
   "source": [
    "dt.predict_proba(X.iloc[[0]])"
   ]
  },
  {
   "cell_type": "code",
   "execution_count": null,
   "id": "43d2fecd",
   "metadata": {},
   "outputs": [],
   "source": [
    "dt.predict_log_proba(X.iloc[[0]])"
   ]
  },
  {
   "cell_type": "code",
   "execution_count": null,
   "id": "dfa45eef",
   "metadata": {},
   "outputs": [],
   "source": [
    "import pydotplus\n",
    "from io import StringIO\n",
    "from sklearn.tree import export_graphviz"
   ]
  },
  {
   "cell_type": "code",
   "execution_count": null,
   "id": "8f10a716",
   "metadata": {},
   "outputs": [],
   "source": [
    "\"\"\"\n",
    "dot_data = StringIO()\n",
    "tree.export_graphviz(\n",
    "    dt,\n",
    "    out_file = dot_data,\n",
    "    feature_names = X.columns,\n",
    "    class_names = ['Died', 'Survived'],\n",
    "    filled = True,\n",
    ")\n",
    "g = pydotplus.graph_from_dot_data(\n",
    "    dot_data.getvalue()\n",
    ")\n",
    "g.write_png('Desktop\\oreilly\\mlpr_1002.png')\n",
    "\"\"\""
   ]
  },
  {
   "cell_type": "code",
   "execution_count": null,
   "id": "80596313",
   "metadata": {},
   "outputs": [],
   "source": [
    "from IPython.display import Image\n",
    "\n",
    "\"\"\" Image(g.create_png()) \"\"\""
   ]
  },
  {
   "cell_type": "code",
   "execution_count": null,
   "id": "47d980c7",
   "metadata": {},
   "outputs": [],
   "source": [
    "\"\"\"\n",
    "viz = dtreeviz.trees.dtreeviz(\n",
    "    dt,\n",
    "    X,\n",
    "    y,\n",
    "    target_name = 'survived',\n",
    "    feature_names = X.columns,\n",
    "    class_names = ['died', 'survived']\n",
    ")\n",
    "viz\n",
    "\"\"\""
   ]
  },
  {
   "cell_type": "code",
   "execution_count": null,
   "id": "aacbe8b6",
   "metadata": {},
   "outputs": [],
   "source": [
    "for col, val in sorted(\n",
    "    zip(X.columns, dt.feature_importances_),\n",
    "    key = lambda x: x[1],\n",
    "    reverse = True\n",
    ")[:5]:\n",
    "    print(f'{col:10}{val:10.3f}')"
   ]
  },
  {
   "cell_type": "code",
   "execution_count": null,
   "id": "a8eeebd5",
   "metadata": {},
   "outputs": [],
   "source": [
    "from yellowbrick.model_selection import FeatureImportances"
   ]
  },
  {
   "cell_type": "code",
   "execution_count": null,
   "id": "17f03ca3",
   "metadata": {},
   "outputs": [],
   "source": [
    "fig, ax = plt.subplots(figsize = (6, 4))\n",
    "fi_viz = FeatureImportances(dt)\n",
    "fi_viz.fit(X, y)\n",
    "fi_viz.poof()\n",
    "fig.savefig('Desktop\\oreilly\\mlpr_1004.png', dpi = 300)"
   ]
  },
  {
   "cell_type": "markdown",
   "id": "8fd68c82",
   "metadata": {},
   "source": [
    "### Floresta aleatória"
   ]
  },
  {
   "cell_type": "code",
   "execution_count": null,
   "id": "7ad143ed",
   "metadata": {},
   "outputs": [],
   "source": [
    "from sklearn.ensemble import RandomForestClassifier"
   ]
  },
  {
   "cell_type": "code",
   "execution_count": null,
   "id": "c118cf66",
   "metadata": {},
   "outputs": [],
   "source": [
    "rf = RandomForestClassifier(random_state = 42)\n",
    "rf.fit(X_train, y_train)"
   ]
  },
  {
   "cell_type": "code",
   "execution_count": null,
   "id": "3ae950ca",
   "metadata": {},
   "outputs": [],
   "source": [
    "rf.score(X_test, y_test)"
   ]
  },
  {
   "cell_type": "code",
   "execution_count": null,
   "id": "0018cbef",
   "metadata": {},
   "outputs": [],
   "source": [
    "rf.predict(X.iloc[[0]])"
   ]
  },
  {
   "cell_type": "code",
   "execution_count": null,
   "id": "3438ed10",
   "metadata": {},
   "outputs": [],
   "source": [
    "rf.predict_proba(X.iloc[[0]])"
   ]
  },
  {
   "cell_type": "code",
   "execution_count": null,
   "id": "8bef1f9d",
   "metadata": {},
   "outputs": [],
   "source": [
    "rf.predict_log_proba(X.iloc[[0]])"
   ]
  },
  {
   "cell_type": "code",
   "execution_count": null,
   "id": "caa54c60",
   "metadata": {},
   "outputs": [],
   "source": [
    "import rfpimp"
   ]
  },
  {
   "cell_type": "code",
   "execution_count": null,
   "id": "ef71ada0",
   "metadata": {},
   "outputs": [],
   "source": [
    "rf = RandomForestClassifier(random_state = 42)\n",
    "rf.fit(X_train, y_train)\n",
    "rfpimp.importances(\n",
    "    rf, X_test, y_test\n",
    ").Importance"
   ]
  },
  {
   "cell_type": "markdown",
   "id": "ab2d7431",
   "metadata": {},
   "source": [
    "### XGBoost"
   ]
  },
  {
   "cell_type": "code",
   "execution_count": null,
   "id": "4abf8628",
   "metadata": {},
   "outputs": [],
   "source": [
    "import xgboost as xgb"
   ]
  },
  {
   "cell_type": "code",
   "execution_count": null,
   "id": "3f7735ee",
   "metadata": {},
   "outputs": [],
   "source": [
    "xgb_class = xgb.XGBClassifier(random_state = 42)\n",
    "xgb_class.fit(\n",
    "    X_train,\n",
    "    y_train,\n",
    "    early_stopping_rounds = 10,\n",
    "    eval_set = [(X_test, y_test)]\n",
    ")"
   ]
  },
  {
   "cell_type": "code",
   "execution_count": null,
   "id": "8760a2ca",
   "metadata": {},
   "outputs": [],
   "source": [
    "xgb_class.score(X_test, y_test)"
   ]
  },
  {
   "cell_type": "code",
   "execution_count": null,
   "id": "c6e51299",
   "metadata": {},
   "outputs": [],
   "source": [
    "xgb_class.predict(X.iloc[[0]])"
   ]
  },
  {
   "cell_type": "code",
   "execution_count": null,
   "id": "33752163",
   "metadata": {},
   "outputs": [],
   "source": [
    "xgb_class.predict_proba(X.iloc[[0]])"
   ]
  },
  {
   "cell_type": "code",
   "execution_count": null,
   "id": "29d4ed60",
   "metadata": {},
   "outputs": [],
   "source": [
    "for col, val in sorted(\n",
    "    zip(\n",
    "        X.columns,\n",
    "        xgb_class.feature_importances_,\n",
    "    ),\n",
    "    key = lambda x: x[1],\n",
    "    reverse = True\n",
    ")[:5]:\n",
    "    print(f'{col:10}{val:10.3f}')"
   ]
  },
  {
   "cell_type": "code",
   "execution_count": null,
   "id": "1135a997",
   "metadata": {},
   "outputs": [],
   "source": [
    "fig, ax = plt.subplots(figsize = (6, 4))\n",
    "xgb.plot_importance(xgb_class, ax = ax)\n",
    "fig.savefig('Desktop\\oreilly\\mlpr_1005.png', dpi = 300)"
   ]
  },
  {
   "cell_type": "code",
   "execution_count": null,
   "id": "f44f8b8c",
   "metadata": {},
   "outputs": [],
   "source": [
    "fig, ax = plt.subplots(figsize = (6, 4))\n",
    "fi_viz = FeatureImportances(xgb_class)\n",
    "fi_viz.fit(X, y)\n",
    "fi_viz.poof()\n",
    "fig.savefig('Desktop\\oreilly\\mlpr_1006.png', dpi = 300)"
   ]
  },
  {
   "cell_type": "code",
   "execution_count": null,
   "id": "8cd3b3df",
   "metadata": {},
   "outputs": [],
   "source": [
    "booster = xgb_class.get_booster()\n",
    "print(booster.get_dump()[0])"
   ]
  },
  {
   "cell_type": "code",
   "execution_count": null,
   "id": "81317d83",
   "metadata": {},
   "outputs": [],
   "source": [
    "\"\"\"\n",
    "fig, ax = plt.subplots(figsize = (6, 4))\n",
    "xgb.plot_tree(xgb_class, ax = ax, num_trees = 0)\n",
    "fig.savefig('Desktop\\oreilly\\mlpr_1006.png', dpi = 300)\n",
    "\"\"\""
   ]
  },
  {
   "cell_type": "code",
   "execution_count": null,
   "id": "a0da36cb",
   "metadata": {},
   "outputs": [],
   "source": [
    "import xgbfir"
   ]
  },
  {
   "cell_type": "code",
   "execution_count": null,
   "id": "ccffb36c",
   "metadata": {},
   "outputs": [],
   "source": [
    "xgbfir.saveXgbFI(\n",
    "    xgb_class,\n",
    "    feature_names = X.columns,\n",
    "    OutputXlsxFile = 'fir.xlsx'\n",
    ")"
   ]
  },
  {
   "cell_type": "code",
   "execution_count": null,
   "id": "d14853da",
   "metadata": {},
   "outputs": [],
   "source": [
    "pd.read_excel('fir.xlsx').head(3).T\n",
    "#http://localhost:8888/edit/fir.xlsx"
   ]
  },
  {
   "cell_type": "code",
   "execution_count": null,
   "id": "f3c411f8",
   "metadata": {},
   "outputs": [],
   "source": [
    "pd.read_excel(\n",
    "    'fir.xlsx',\n",
    "    sheet_name = 'Interaction Depth 1'\n",
    ").head(2)"
   ]
  },
  {
   "cell_type": "code",
   "execution_count": null,
   "id": "bfbd4765",
   "metadata": {},
   "outputs": [],
   "source": [
    "pd.read_excel(\n",
    "    'fir.xlsx',\n",
    "    sheet_name = 'Interaction Depth 2'\n",
    ").head(1).T"
   ]
  },
  {
   "cell_type": "code",
   "execution_count": null,
   "id": "0d68af5f",
   "metadata": {},
   "outputs": [],
   "source": [
    "pd.read_excel(\n",
    "    'fir.xlsx',\n",
    "    sheet_name = 'Interaction Depth 2'\n",
    ")[['Interaction', 'Gain']].head()"
   ]
  },
  {
   "cell_type": "markdown",
   "id": "174f21b9",
   "metadata": {},
   "source": [
    "### Gradient Boosted com LightGBM"
   ]
  },
  {
   "cell_type": "code",
   "execution_count": null,
   "id": "295ed487",
   "metadata": {},
   "outputs": [],
   "source": [
    "\"\"\" import lightgbm as lgb \"\"\""
   ]
  },
  {
   "cell_type": "code",
   "execution_count": null,
   "id": "2f521508",
   "metadata": {},
   "outputs": [],
   "source": [
    "\"\"\"\n",
    "lbgm_class = lgb.LGBMClassifier(random_state = 42)\n",
    "lgbm_class.fit(X_train, y_train)\n",
    "\"\"\""
   ]
  },
  {
   "cell_type": "code",
   "execution_count": null,
   "id": "780f4b76",
   "metadata": {},
   "outputs": [],
   "source": [
    "\"\"\" lgbm_class.score(X_test, y_test) \"\"\""
   ]
  },
  {
   "cell_type": "code",
   "execution_count": null,
   "id": "1c177290",
   "metadata": {},
   "outputs": [],
   "source": [
    "\"\"\" lgbm_class.predict(X.iloc[[0]]) \"\"\""
   ]
  },
  {
   "cell_type": "code",
   "execution_count": null,
   "id": "2f936207",
   "metadata": {},
   "outputs": [],
   "source": [
    "\"\"\" lgbm_class.predict_proba(X.iloc[[0]]) \"\"\""
   ]
  },
  {
   "cell_type": "code",
   "execution_count": null,
   "id": "a0f88293",
   "metadata": {},
   "outputs": [],
   "source": [
    "\"\"\"\n",
    "for col, val in sorted(\n",
    "    zip(cols, lgbm_class.feature_importances_),\n",
    "    key = lambda x: x[1],\n",
    "    reverse = True\n",
    ")[:5]:\n",
    "    print(f'{col:10}{val:10.3f}'')\n",
    "\"\"\""
   ]
  },
  {
   "cell_type": "code",
   "execution_count": null,
   "id": "eb3546b2",
   "metadata": {},
   "outputs": [],
   "source": [
    "\"\"\"\n",
    "fig, ax = plt.subplots(figsize = (6, 4))\n",
    "lgb.plot_importances(lgbm_class, ax = ax)\n",
    "fig.tight_layout()\n",
    "fig.savefig('Desktop\\oreilly\\mlpr_1008.png', dpi = 300)\n",
    "\"\"\""
   ]
  },
  {
   "cell_type": "code",
   "execution_count": null,
   "id": "1658c6ca",
   "metadata": {},
   "outputs": [],
   "source": [
    "\"\"\"\n",
    "fig, ax = plt.subplots(figsize = (6, 4))\n",
    "lgb.plot_tree(lgb_class, tree_index = 0, ax = ax)\n",
    "fig.savefig('Desktop\\oreilly\\mlpr_1009.png', dpi = 300)\n",
    "\"\"\""
   ]
  },
  {
   "cell_type": "markdown",
   "id": "277516fd",
   "metadata": {},
   "source": [
    "### TPOT"
   ]
  },
  {
   "cell_type": "code",
   "execution_count": null,
   "id": "fc49eb1a",
   "metadata": {},
   "outputs": [],
   "source": [
    "# demora muito pra rodar"
   ]
  },
  {
   "cell_type": "code",
   "execution_count": null,
   "id": "84e9e8bd",
   "metadata": {},
   "outputs": [],
   "source": [
    "from tpot import TPOTClassifier"
   ]
  },
  {
   "cell_type": "code",
   "execution_count": null,
   "id": "84f5a225",
   "metadata": {},
   "outputs": [],
   "source": [
    "tc = TPOTClassifier(generations = 2)\n",
    "tc.fit(X_train, y_train)\n",
    "tc.score(X_test, y_test)"
   ]
  },
  {
   "cell_type": "code",
   "execution_count": null,
   "id": "7acfc3dc",
   "metadata": {},
   "outputs": [],
   "source": [
    "tc.predict(X.iloc[[0]])"
   ]
  },
  {
   "cell_type": "code",
   "execution_count": null,
   "id": "6683a958",
   "metadata": {},
   "outputs": [],
   "source": [
    "tc.predict_proba(X.iloc[[0]])"
   ]
  },
  {
   "cell_type": "code",
   "execution_count": null,
   "id": "b0329321",
   "metadata": {},
   "outputs": [],
   "source": [
    "tc.export('tpot_exported_pipeline.py')"
   ]
  },
  {
   "cell_type": "code",
   "execution_count": null,
   "id": "0713e2d2",
   "metadata": {},
   "outputs": [],
   "source": [
    "import numpy as np\n",
    "import pandas as pd\n",
    "from sklearn.ensemble import ExtraTreesClassifier\n",
    "from sklearn.model_selection import train_test_split\n",
    "from sklearn.pipeline import make_pipeline, make_union\n",
    "from sklearn.preprocessing import Normalizer\n",
    "from tpot.builtins import StackingEstimator"
   ]
  },
  {
   "cell_type": "code",
   "execution_count": null,
   "id": "2efb4636",
   "metadata": {},
   "outputs": [],
   "source": [
    "\"\"\"\n",
    "tpot_data = pd.read_csv('PATH/TO/DATA/FILE', sep = 'COLUMN_SEPARATOR', dtype = np.float64)\n",
    "features = tpot_data.drop('target', axis = 1).values\n",
    "training_features, testing_features, training_target, testing_target = train_test_split(features, tpot_data['target'].values, random_state = 42)\n",
    "\"\"\""
   ]
  },
  {
   "cell_type": "code",
   "execution_count": null,
   "id": "195a13c5",
   "metadata": {},
   "outputs": [],
   "source": [
    "\"\"\"\n",
    "exported_pipeline = make_pipeline(\n",
    "    Normalizer(norm = 'max'),\n",
    "    StackingEstimator(\n",
    "        estimator = ExtraTreesClassifier(bootstrap = True,\n",
    "            criterion = 'gini', max_features = 0.85,\n",
    "            min_samples_leaf = 2, min_samples_split = 19,\n",
    "            n_estimators = 100)),\n",
    "    ExtraTreesClassifier(bootstrap = False,\n",
    "        criterion = 'entropy', max_features = 0.3,\n",
    "        min_samples_leaf = 13, min_samples_split = 9,\n",
    "        n_estimators = 100)\n",
    ")\n",
    "exported_pipeline.fit(training_features, training_target)\n",
    "results = exported_pipeline.predict(testing_features)\n",
    "\"\"\""
   ]
  },
  {
   "cell_type": "markdown",
   "id": "367d2b93",
   "metadata": {},
   "source": [
    "# Capítulo 11 - Seleção do modelo"
   ]
  },
  {
   "cell_type": "markdown",
   "id": "1dd11e52",
   "metadata": {},
   "source": [
    "### Curva de validação"
   ]
  },
  {
   "cell_type": "code",
   "execution_count": null,
   "id": "661a345a",
   "metadata": {},
   "outputs": [],
   "source": [
    "from yellowbrick.model_selection import ValidationCurve"
   ]
  },
  {
   "cell_type": "code",
   "execution_count": null,
   "id": "651d2fb3",
   "metadata": {},
   "outputs": [],
   "source": [
    "fig, ax = plt.subplots(figsize = (6, 4))\n",
    "vc_viz = ValidationCurve(RandomForestClassifier(n_estimators = 100),\n",
    "    param_name = 'max_depth',\n",
    "    param_range = np.arange(1, 11),\n",
    "    cv = 10,\n",
    "    n_jobs = -1\n",
    ")\n",
    "vc_viz.fit(X, y)\n",
    "vc_viz.poof()\n",
    "fig.savefig('Desktop\\oreilly\\mlpr_1101.png', dpi = 300)"
   ]
  },
  {
   "cell_type": "code",
   "execution_count": null,
   "id": "411ec184",
   "metadata": {},
   "outputs": [],
   "source": [
    "# scoring para classificação\n",
    "# accuracy, average_precision, f1, f1_micro, f1_macro, f1_weighted, f1_samples, neg_log_loss, precision, recall, roc_auc\n",
    "\n",
    "# scoring para clustering\n",
    "# adjusted_mutual_info_score, adjusted_rand_score, completeness_score, fowkesmallows_score, homogeneity_score, mutual_info_score, normalized_mutual_info_score, v_measure_score\n",
    "\n",
    "# scoring para regressão\n",
    "# explained_variance, neg_mean_absolute_error, neg_mean_squared_error, neg_mean_squared_log_error, neg_median_absolute_error"
   ]
  },
  {
   "cell_type": "markdown",
   "id": "ed5054f9",
   "metadata": {},
   "source": [
    "### Curva de aprendizagem"
   ]
  },
  {
   "cell_type": "code",
   "execution_count": null,
   "id": "6cb1f1cc",
   "metadata": {},
   "outputs": [],
   "source": [
    "from yellowbrick.model_selection import LearningCurve"
   ]
  },
  {
   "cell_type": "code",
   "execution_count": null,
   "id": "734d2f6c",
   "metadata": {},
   "outputs": [],
   "source": [
    "fig, ax = plt.subplots(figsize = (6, 4))\n",
    "lc3_viz = LearningCurve(\n",
    "    RandomForestClassifier(n_estimators = 100),\n",
    "    cv = 10\n",
    ")\n",
    "lc3_viz.fit(X, y)\n",
    "lc3_viz.poof()\n",
    "fig.savefig('Desktop\\oreilly\\mlpr_1102.png', dpi = 300)"
   ]
  },
  {
   "cell_type": "markdown",
   "id": "4acf62e3",
   "metadata": {},
   "source": [
    "# Capítulo 12 - Métricas e avaliação de classificação"
   ]
  },
  {
   "cell_type": "code",
   "execution_count": null,
   "id": "7397ae2b",
   "metadata": {},
   "outputs": [],
   "source": [
    "y_predict = dt.predict(X_test)\n",
    "tp = (\n",
    "    (y_test == 1) & (y_test == y_predict)\n",
    ").sum() # 123\n",
    "tn = (\n",
    "    (y_test == 0) & (y_test == y_predict)\n",
    ").sum() # 199\n",
    "fp = (\n",
    "    (y_test == 0) & (y_test != y_predict)\n",
    ").sum() # 25\n",
    "fn = (\n",
    "    (y_test == 1) & (y_test != y_predict)\n",
    ").sum() # 46"
   ]
  },
  {
   "cell_type": "code",
   "execution_count": null,
   "id": "3d101ab1",
   "metadata": {},
   "outputs": [],
   "source": [
    "tp, tn, fp, fn"
   ]
  },
  {
   "cell_type": "code",
   "execution_count": null,
   "id": "a402c172",
   "metadata": {},
   "outputs": [],
   "source": [
    "from sklearn.metrics import confusion_matrix"
   ]
  },
  {
   "cell_type": "code",
   "execution_count": null,
   "id": "73fa3d88",
   "metadata": {},
   "outputs": [],
   "source": [
    "y_predict = dt.predict(X_test)\n",
    "pd.DataFrame(\n",
    "    confusion_matrix(y_test, y_predict),\n",
    "    columns = [\n",
    "        'Predict died',\n",
    "        'Predict Survive'\n",
    "    ],\n",
    "    index = ['True Death', 'True Survive']\n",
    ")"
   ]
  },
  {
   "cell_type": "code",
   "execution_count": null,
   "id": "2456c328",
   "metadata": {},
   "outputs": [],
   "source": [
    "import matplotlib.pyplot as plt\n",
    "from yellowbrick.classifier import ConfusionMatrix"
   ]
  },
  {
   "cell_type": "code",
   "execution_count": null,
   "id": "3dfbe078",
   "metadata": {},
   "outputs": [],
   "source": [
    "mapping = {0: 'died', 1: 'survived'}\n",
    "fig, ax = plt.subplots(figsize = (6, 6))\n",
    "cm_viz = ConfusionMatrix(\n",
    "    dt,\n",
    "    classes = ['died', 'survived'],\n",
    "    label_encoder = mapping\n",
    ")\n",
    "cm_viz.score(X_test, y_test)\n",
    "cm_viz.poof()\n",
    "fig.savefig('Desktop\\oreilly\\mlpr_1202.png', dpi = 300)"
   ]
  },
  {
   "cell_type": "markdown",
   "id": "50984d33",
   "metadata": {},
   "source": [
    "### Métricas"
   ]
  },
  {
   "cell_type": "markdown",
   "id": "796cdaf9",
   "metadata": {},
   "source": [
    "### Acurácia"
   ]
  },
  {
   "cell_type": "code",
   "execution_count": null,
   "id": "9db8eaf6",
   "metadata": {},
   "outputs": [],
   "source": [
    "(tp + tn) / (tp + tn + fp + fn)"
   ]
  },
  {
   "cell_type": "code",
   "execution_count": null,
   "id": "8ed72bef",
   "metadata": {},
   "outputs": [],
   "source": [
    "from sklearn.metrics import accuracy_score"
   ]
  },
  {
   "cell_type": "code",
   "execution_count": null,
   "id": "1de1ba63",
   "metadata": {},
   "outputs": [],
   "source": [
    "y_predict = dt.predict(X_test)\n",
    "accuracy_score(y_test, y_predict)"
   ]
  },
  {
   "cell_type": "markdown",
   "id": "27aeaaf7",
   "metadata": {},
   "source": [
    "### Recall"
   ]
  },
  {
   "cell_type": "code",
   "execution_count": null,
   "id": "d9663e16",
   "metadata": {},
   "outputs": [],
   "source": [
    "tp / (tp + tn)"
   ]
  },
  {
   "cell_type": "code",
   "execution_count": null,
   "id": "a09e0799",
   "metadata": {},
   "outputs": [],
   "source": [
    "from sklearn.metrics import recall_score"
   ]
  },
  {
   "cell_type": "code",
   "execution_count": null,
   "id": "f241cc94",
   "metadata": {},
   "outputs": [],
   "source": [
    "y_predict = dt.predict(X_test)\n",
    "recall_score(y_test, y_predict)"
   ]
  },
  {
   "cell_type": "markdown",
   "id": "05b74755",
   "metadata": {},
   "source": [
    "### Precisão"
   ]
  },
  {
   "cell_type": "code",
   "execution_count": null,
   "id": "77994566",
   "metadata": {},
   "outputs": [],
   "source": [
    "tp / (tp + fp)"
   ]
  },
  {
   "cell_type": "code",
   "execution_count": null,
   "id": "afa2c997",
   "metadata": {},
   "outputs": [],
   "source": [
    "from sklearn.metrics import precision_score"
   ]
  },
  {
   "cell_type": "code",
   "execution_count": null,
   "id": "1e0326d6",
   "metadata": {},
   "outputs": [],
   "source": [
    "y_predict = dt.predict(X_test)\n",
    "precision_score(y_test, y_predict)"
   ]
  },
  {
   "cell_type": "markdown",
   "id": "b4db1c67",
   "metadata": {},
   "source": [
    "### F1"
   ]
  },
  {
   "cell_type": "code",
   "execution_count": null,
   "id": "dd9cf2b8",
   "metadata": {},
   "outputs": [],
   "source": [
    "pre = tp / (tp + fp)\n",
    "rec = tp / (tp + fn)\n",
    "2 * pre * rec / (pre + rec)"
   ]
  },
  {
   "cell_type": "code",
   "execution_count": null,
   "id": "930dc1d6",
   "metadata": {},
   "outputs": [],
   "source": [
    "from sklearn.metrics import f1_score"
   ]
  },
  {
   "cell_type": "code",
   "execution_count": null,
   "id": "eb962a9e",
   "metadata": {},
   "outputs": [],
   "source": [
    "y_predict = dt.predict(X_test)\n",
    "f1_score(y_test, y_predict)"
   ]
  },
  {
   "cell_type": "markdown",
   "id": "e7ed973d",
   "metadata": {},
   "source": [
    "### Relatório de Classificação"
   ]
  },
  {
   "cell_type": "code",
   "execution_count": null,
   "id": "eb8a2aed",
   "metadata": {},
   "outputs": [],
   "source": [
    "import matplotlib.pyplot as plt\n",
    "from yellowbrick.classifier import ClassificationReport"
   ]
  },
  {
   "cell_type": "code",
   "execution_count": null,
   "id": "6fd0ba14",
   "metadata": {},
   "outputs": [],
   "source": [
    "fig, ax = plt.subplots(figsize = (6, 3))\n",
    "cm_viz = ClassificationReport(\n",
    "    dt,\n",
    "    classes = ['died', 'survived'],\n",
    "    label_encoder = mapping\n",
    ")\n",
    "cm_viz.score(X_test, y_test)\n",
    "cm_viz.poof()\n",
    "fig.savefig('Desktop\\oreilly\\mlpr_1203.png', dpi = 300)"
   ]
  },
  {
   "cell_type": "markdown",
   "id": "c6d673cd",
   "metadata": {},
   "source": [
    "## ROC"
   ]
  },
  {
   "cell_type": "code",
   "execution_count": null,
   "id": "7c4c2894",
   "metadata": {},
   "outputs": [],
   "source": [
    "from sklearn.metrics import roc_auc_score"
   ]
  },
  {
   "cell_type": "code",
   "execution_count": null,
   "id": "aa5fe20f",
   "metadata": {},
   "outputs": [],
   "source": [
    "y_predict = dt.predict(X_test)\n",
    "roc_auc_score(y_test, y_predict)"
   ]
  },
  {
   "cell_type": "code",
   "execution_count": null,
   "id": "63a2d7db",
   "metadata": {},
   "outputs": [],
   "source": [
    "from yellowbrick.classifier import ROCAUC"
   ]
  },
  {
   "cell_type": "code",
   "execution_count": null,
   "id": "4d46a694",
   "metadata": {},
   "outputs": [],
   "source": [
    "\"\"\"\n",
    "fig, ax = plt.subplots(figsize = (6, 6))\n",
    "roc_viz = ROCAUC(dt)\n",
    "roc_viz.score(X_test, y_test)\n",
    "\"\"\""
   ]
  },
  {
   "cell_type": "code",
   "execution_count": null,
   "id": "e6d748fd",
   "metadata": {},
   "outputs": [],
   "source": [
    "\"\"\"\n",
    "roc_viz.poof()\n",
    "fig.savefig('Desktop\\oreilly\\mlpr_1204.png', dpi = 300)\n",
    "\"\"\""
   ]
  },
  {
   "cell_type": "markdown",
   "id": "3e350cb8",
   "metadata": {},
   "source": [
    "### Curva de precisão-recall"
   ]
  },
  {
   "cell_type": "code",
   "execution_count": null,
   "id": "3cbfe356",
   "metadata": {},
   "outputs": [],
   "source": [
    "from sklearn.metrics import average_precision_score"
   ]
  },
  {
   "cell_type": "code",
   "execution_count": null,
   "id": "f653f705",
   "metadata": {},
   "outputs": [],
   "source": [
    "y_predict = dt.predict(X_test)\n",
    "average_precision_score(y_test, y_predict)"
   ]
  },
  {
   "cell_type": "code",
   "execution_count": null,
   "id": "1ed020b2",
   "metadata": {},
   "outputs": [],
   "source": [
    "from yellowbrick.classifier import PrecisionRecallCurve"
   ]
  },
  {
   "cell_type": "code",
   "execution_count": null,
   "id": "48c7c579",
   "metadata": {},
   "outputs": [],
   "source": [
    "fig, ax = plt.subplots(figsize = (6, 4))\n",
    "viz = PrecisionRecallCurve(DecisionTreeClassifier(max_depth = 3))\n",
    "viz.fit(X_train, y_train)\n",
    "print(viz.score(X_test, y_test))"
   ]
  },
  {
   "cell_type": "code",
   "execution_count": null,
   "id": "88ffd409",
   "metadata": {},
   "outputs": [],
   "source": [
    "viz.poof()\n",
    "fig.savefig('Desktop\\oreilly\\mlpr_1205.png', dpi = 300)"
   ]
  },
  {
   "cell_type": "markdown",
   "id": "9f2576ca",
   "metadata": {},
   "source": [
    "### Gráfico de ganhos cumulativos"
   ]
  },
  {
   "cell_type": "code",
   "execution_count": null,
   "id": "5cf3fcef",
   "metadata": {},
   "outputs": [],
   "source": [
    "import scikitplot"
   ]
  },
  {
   "cell_type": "code",
   "execution_count": null,
   "id": "75da68a9",
   "metadata": {},
   "outputs": [],
   "source": [
    "fig, ax = plt.subplots(figsize = (6, 6))\n",
    "y_probas = dt.predict_proba(X_test)\n",
    "scikitplot.metrics.plot_cumulative_gain(\n",
    "    y_test, y_probas, ax = ax\n",
    ")\n",
    "fig.savefig('Desktop\\oreilly\\mlpr_1206.png', dpi = 300, bbox_inches = 'tight')"
   ]
  },
  {
   "cell_type": "markdown",
   "id": "3c425434",
   "metadata": {},
   "source": [
    "### Gráfico de elevação"
   ]
  },
  {
   "cell_type": "code",
   "execution_count": null,
   "id": "6e6faea7",
   "metadata": {},
   "outputs": [],
   "source": [
    "fig, ax = plt.subplots(figsize = (6, 6))\n",
    "y_probas = dt.predict_proba(X_test)\n",
    "scikitplot.metrics.plot_lift_curve(\n",
    "    y_test, y_probas, ax = ax\n",
    ")\n",
    "fig.savefig('Desktop\\oreilly\\mlpr_1207.png', dpi = 300, bbox_inches = 'tight')"
   ]
  },
  {
   "cell_type": "markdown",
   "id": "7b6ce351",
   "metadata": {},
   "source": [
    "### Balanceamento das classes"
   ]
  },
  {
   "cell_type": "code",
   "execution_count": null,
   "id": "2006e8f8",
   "metadata": {},
   "outputs": [],
   "source": [
    "from yellowbrick.classifier import ClassBalance"
   ]
  },
  {
   "cell_type": "code",
   "execution_count": null,
   "id": "d787c5ed",
   "metadata": {},
   "outputs": [],
   "source": [
    "fig, ax = plt.subplots(figsize = (6, 6))\n",
    "cb_viz = ClassBalance(labels = ['Died', 'Survied'])\n",
    "cb_viz.fit(y_test)\n",
    "cb_viz.poof()\n",
    "fig.savefig('Desktop\\oreilly\\mlpr_1208.png', dpi = 300, bbox_inches = 'tight')"
   ]
  },
  {
   "cell_type": "markdown",
   "id": "15369c58",
   "metadata": {},
   "source": [
    "### Erro de predição de classe"
   ]
  },
  {
   "cell_type": "code",
   "execution_count": null,
   "id": "297f83d2",
   "metadata": {},
   "outputs": [],
   "source": [
    "from yellowbrick.classifier import ClassPredictionError"
   ]
  },
  {
   "cell_type": "code",
   "execution_count": null,
   "id": "d7ced815",
   "metadata": {},
   "outputs": [],
   "source": [
    "fig, ax = plt.subplots(figsize = (6, 3))\n",
    "cpe_viz = ClassPredictionError(dt, classes = ['died', 'survived'])\n",
    "cpe_viz.score(X_test, y_test)\n",
    "cpe_viz.poof()\n",
    "fig.savefig('Desktop\\oreilly\\mlpr_1209.png', dpi = 300)"
   ]
  },
  {
   "cell_type": "markdown",
   "id": "a6ab2375",
   "metadata": {},
   "source": [
    "### Limiar de discriminação"
   ]
  },
  {
   "cell_type": "code",
   "execution_count": null,
   "id": "c69bd489",
   "metadata": {},
   "outputs": [],
   "source": [
    "from yellowbrick.classifier import DiscriminationThreshold"
   ]
  },
  {
   "cell_type": "code",
   "execution_count": null,
   "id": "cf0d9e68",
   "metadata": {},
   "outputs": [],
   "source": [
    "fig, ax = plt.subplots(figsize = (6, 5))\n",
    "dt_viz = DiscriminationThreshold(dt)\n",
    "dt_viz.fit(X, y)\n",
    "dt_viz.poof()\n",
    "fig.savefig('Desktop\\oreilly\\mlpr_1210.png', dpi = 300)"
   ]
  },
  {
   "cell_type": "markdown",
   "id": "b99177cb",
   "metadata": {},
   "source": [
    "# Capítulo 13 - Explicando os modelos"
   ]
  },
  {
   "cell_type": "code",
   "execution_count": null,
   "id": "cb308dae",
   "metadata": {},
   "outputs": [],
   "source": [
    "dt = DecisionTreeClassifier(random_state = 42, max_depth = 3)\n",
    "dt.fit(X_train, y_train)"
   ]
  },
  {
   "cell_type": "markdown",
   "id": "4b5d90e8",
   "metadata": {},
   "source": [
    "### Coeficientes de regressão"
   ]
  },
  {
   "cell_type": "markdown",
   "id": "38ed0856",
   "metadata": {},
   "source": [
    "### Importância dos atributos"
   ]
  },
  {
   "cell_type": "markdown",
   "id": "cacc9575",
   "metadata": {},
   "source": [
    "### LIME"
   ]
  },
  {
   "cell_type": "code",
   "execution_count": null,
   "id": "b7ad5c4f",
   "metadata": {},
   "outputs": [],
   "source": [
    "from lime import lime_tabular"
   ]
  },
  {
   "cell_type": "code",
   "execution_count": null,
   "id": "901f01b6",
   "metadata": {},
   "outputs": [],
   "source": [
    "explainer = lime_tabular.LimeTabularExplainer(\n",
    "    X_train.values,\n",
    "    feature_names = X.columns,\n",
    "    class_names = ['died', 'survived']\n",
    ")\n",
    "exp = explainer.explain_instance(\n",
    "    X_train.iloc[-1].values, dt.predict_proba\n",
    ")\n",
    "exp"
   ]
  },
  {
   "cell_type": "code",
   "execution_count": null,
   "id": "b0010a7d",
   "metadata": {},
   "outputs": [],
   "source": [
    "fig = exp.as_pyplot_figure()\n",
    "fig.tight_layout()\n",
    "fig.savefig('Desktop\\oreilly\\mlpr_1301.png', dpi = 300)"
   ]
  },
  {
   "cell_type": "code",
   "execution_count": null,
   "id": "38775393",
   "metadata": {},
   "outputs": [],
   "source": [
    "data = X_train.iloc[-2].values.copy()\n",
    "dt.predict_proba(\n",
    "    [data]\n",
    ") # previsão de que uma mulher sobreviva"
   ]
  },
  {
   "cell_type": "code",
   "execution_count": null,
   "id": "57168a56",
   "metadata": {},
   "outputs": [],
   "source": [
    "data[5] = 1 # muda para o sexo masculino\n",
    "dt.predict_proba([data])"
   ]
  },
  {
   "cell_type": "markdown",
   "id": "25b72463",
   "metadata": {},
   "source": [
    "### Interpretação de árvores"
   ]
  },
  {
   "cell_type": "code",
   "execution_count": null,
   "id": "dc1fbcee",
   "metadata": {},
   "outputs": [],
   "source": [
    "from treeinterpreter import treeinterpreter as ti"
   ]
  },
  {
   "cell_type": "code",
   "execution_count": null,
   "id": "a8211dce",
   "metadata": {},
   "outputs": [],
   "source": [
    "instances = X.iloc[:2]\n",
    "prediction, bias, contribs = ti.predict(\n",
    "    rf5, instances\n",
    ")\n",
    "i = 0\n",
    "print('Instance', i)\n",
    "print('Prediction', prediction[i])\n",
    "print('Bias (trainset mean)', bias[i])\n",
    "print('Feature contributions:')\n",
    "for c, feature in zip(contribs[i], instances.columns):\n",
    "    print(' {} {}'.format(feature, c))"
   ]
  },
  {
   "cell_type": "markdown",
   "id": "ccf98e22",
   "metadata": {},
   "source": [
    "### Gráficos de dependência parcial"
   ]
  },
  {
   "cell_type": "code",
   "execution_count": null,
   "id": "2109593b",
   "metadata": {},
   "outputs": [],
   "source": [
    "rf5 = ensemble.RandomForestClassifier(**{'max_features': 'auto', 'min_samples_leaf': 0.1, 'n_estimators': 200, 'random_state': 42})\n",
    "rf5.fit(X_train, y_train)"
   ]
  },
  {
   "cell_type": "code",
   "execution_count": null,
   "id": "d25823c9",
   "metadata": {},
   "outputs": [],
   "source": [
    "from pdpbox import pdp"
   ]
  },
  {
   "cell_type": "code",
   "execution_count": null,
   "id": "8db5d8a1",
   "metadata": {},
   "outputs": [],
   "source": [
    "feat_name = 'age'\n",
    "p = pdp.pdp_isolate(rf5, X, X.columns, feat_name)\n",
    "fig, _ = pdp.pdp_plot(p, feat_name, plot_lines = True)\n",
    "fig.savefig('Desktop\\oreilly\\mlpr_1302.png', dpi = 300)"
   ]
  },
  {
   "cell_type": "code",
   "execution_count": null,
   "id": "c25177c6",
   "metadata": {},
   "outputs": [],
   "source": [
    "features = ['fare', 'sex_male']\n",
    "p = pdp.pdp_interact(rf5, X, X.columns, features)\n",
    "fig, _ = pdp.pdp_interact_plot(p, features)\n",
    "fig.savefig('Desktop\\oreilly\\mlpr_1303.png', dpi = 300)"
   ]
  },
  {
   "cell_type": "markdown",
   "id": "6debfa23",
   "metadata": {},
   "source": [
    "### Modelos Substitutos"
   ]
  },
  {
   "cell_type": "code",
   "execution_count": null,
   "id": "4546a7e1",
   "metadata": {},
   "outputs": [],
   "source": [
    "from sklearn import svm"
   ]
  },
  {
   "cell_type": "code",
   "execution_count": null,
   "id": "bbb1c8ad",
   "metadata": {},
   "outputs": [],
   "source": [
    "sv = svm.SVC()\n",
    "sv.fit(X_train, y_train)\n",
    "sur_dt = tree.DecisionTreeClassifier()\n",
    "sur_dt.fit(X_test, sv.predict(X_test))\n",
    "for col, val in sorted(zip(X_test.columns, sur_dt.feature_importances_), key = lambda x: x[1], reverse = True)[:7]:\n",
    "    print(f'{col:10}{val:10.3f}')"
   ]
  },
  {
   "cell_type": "markdown",
   "id": "a4ca3909",
   "metadata": {},
   "source": [
    "### Shapley"
   ]
  },
  {
   "cell_type": "code",
   "execution_count": null,
   "id": "d71dfddd",
   "metadata": {},
   "outputs": [],
   "source": [
    "rf5.predict_proba(X_test.iloc[[20]])"
   ]
  },
  {
   "cell_type": "code",
   "execution_count": null,
   "id": "4e5a28ee",
   "metadata": {},
   "outputs": [],
   "source": [
    "import shap"
   ]
  },
  {
   "cell_type": "code",
   "execution_count": null,
   "id": "777dca90",
   "metadata": {},
   "outputs": [],
   "source": [
    "s = shap.TreeExplainer(rf5)\n",
    "shap_vals = s.shap_values(X_test)\n",
    "target.idx = 1\n",
    "shap.force_plot(s.expected_value[target_idx],\n",
    "               shap_vals[target_idx][20, :],\n",
    "               feature_names = X_test.columns)"
   ]
  },
  {
   "cell_type": "code",
   "execution_count": null,
   "id": "f52f46a6",
   "metadata": {},
   "outputs": [],
   "source": [
    "shap.force_plot(s.expected_value[1],\n",
    "               shap_vals[1],\n",
    "               feature_names = X_test.columns)"
   ]
  },
  {
   "cell_type": "code",
   "execution_count": null,
   "id": "1217182a",
   "metadata": {},
   "outputs": [],
   "source": [
    "fig, ax = plt.subplots(figsize = (6, 4))\n",
    "res = shap.dependence_plot('age', shap_vals[target_idx], X_test, feature_names = X_test.columns, alpha = 0.7)\n",
    "fig.savefig('Desktop\\oreilly\\mlpr_1306.png', dpi = 300)"
   ]
  },
  {
   "cell_type": "code",
   "execution_count": null,
   "id": "40e56f4b",
   "metadata": {},
   "outputs": [],
   "source": [
    "fig, ax = plt.subplots(figsize = (6,4))\n",
    "shap.summary_plot(shap_vals[0], X_test)\n",
    "fig.savefig('Desktop\\oreilly\\mlpr_1307.png', dpi = 300)"
   ]
  },
  {
   "cell_type": "markdown",
   "id": "da2d7967",
   "metadata": {},
   "source": [
    "# Capítulo 14 - Regressão"
   ]
  },
  {
   "cell_type": "code",
   "execution_count": null,
   "id": "5e83f96a",
   "metadata": {},
   "outputs": [],
   "source": [
    "import pandas as pd\n",
    "from sklearn.datasets import load_boston\n",
    "from sklearn import model_selection, preprocessing"
   ]
  },
  {
   "cell_type": "code",
   "execution_count": null,
   "id": "406f707a",
   "metadata": {},
   "outputs": [],
   "source": [
    "b = load_boston()"
   ]
  },
  {
   "cell_type": "code",
   "execution_count": null,
   "id": "7076e613",
   "metadata": {},
   "outputs": [],
   "source": [
    "bos_X = pd.DataFrame(b.data, columns = b.feature_names)\n",
    "bos_X"
   ]
  },
  {
   "cell_type": "code",
   "execution_count": null,
   "id": "cd4ca00a",
   "metadata": {},
   "outputs": [],
   "source": [
    "bos_y = b.target\n",
    "bos_y"
   ]
  },
  {
   "cell_type": "code",
   "execution_count": null,
   "id": "9d31adb7",
   "metadata": {},
   "outputs": [],
   "source": [
    "bos_X_train, bos_X_test, bos_y_train, bos_y_test = model_selection.train_test_split(bos_X, bos_y, test_size = 0.3, random_state = 42)\n",
    "bos_sX = preprocessing.StandardScaler().fit_transform(bos_X)\n",
    "bos_sX_train, bos_sX_test, bos_sy_train, bos_sy_test = model_selection.train_test_split(bos_sX, bos_y, test_size = 0.3, random_state = 42)"
   ]
  },
  {
   "cell_type": "markdown",
   "id": "6a07acec",
   "metadata": {},
   "source": [
    "### Modelo de base"
   ]
  },
  {
   "cell_type": "code",
   "execution_count": null,
   "id": "d9e4c84e",
   "metadata": {},
   "outputs": [],
   "source": [
    "from sklearn.dummy import DummyRegressor"
   ]
  },
  {
   "cell_type": "code",
   "execution_count": null,
   "id": "8404bb19",
   "metadata": {},
   "outputs": [],
   "source": [
    "dr = DummyRegressor()\n",
    "dr.fit(bos_X_train, bos_y_train)\n",
    "dr.score(bos_X_test, bos_y_test)"
   ]
  },
  {
   "cell_type": "code",
   "execution_count": null,
   "id": "0e362109",
   "metadata": {},
   "outputs": [],
   "source": [
    "from sklearn.linear_model import LinearRegression"
   ]
  },
  {
   "cell_type": "code",
   "execution_count": null,
   "id": "78be6d7c",
   "metadata": {},
   "outputs": [],
   "source": [
    "lr = LinearRegression()\n",
    "lr.fit(bos_X_train, bos_y_train)"
   ]
  },
  {
   "cell_type": "code",
   "execution_count": null,
   "id": "03e8f791",
   "metadata": {},
   "outputs": [],
   "source": [
    "lr.score(bos_X_test, bos_y_test)"
   ]
  },
  {
   "cell_type": "code",
   "execution_count": null,
   "id": "671d8dfe",
   "metadata": {},
   "outputs": [],
   "source": [
    "lr.coef_"
   ]
  },
  {
   "cell_type": "code",
   "execution_count": null,
   "id": "7d76c5e5",
   "metadata": {},
   "outputs": [],
   "source": [
    "lr2 = LinearRegression()\n",
    "lr2.fit(bos_sX_train, bos_sy_train)"
   ]
  },
  {
   "cell_type": "code",
   "execution_count": null,
   "id": "892b28db",
   "metadata": {},
   "outputs": [],
   "source": [
    "lr2.score(bos_sX_test, bos_sy_test)"
   ]
  },
  {
   "cell_type": "code",
   "execution_count": null,
   "id": "fb233e56",
   "metadata": {},
   "outputs": [],
   "source": [
    "lr2.intercept_"
   ]
  },
  {
   "cell_type": "code",
   "execution_count": null,
   "id": "6beb0fa0",
   "metadata": {},
   "outputs": [],
   "source": [
    "lr2.coef_"
   ]
  },
  {
   "cell_type": "code",
   "execution_count": null,
   "id": "fbd1a09c",
   "metadata": {},
   "outputs": [],
   "source": [
    "from yellowbrick.features import FeatureImportances"
   ]
  },
  {
   "cell_type": "code",
   "execution_count": null,
   "id": "34baf1db",
   "metadata": {},
   "outputs": [],
   "source": [
    "fig, ax = plt.subplots(figsize = (6, 4))\n",
    "fi_viz = FeatureImportances(lr2, labels = bos_X.columns)\n",
    "fi_viz.fit(bos_sX, bos_y)\n",
    "fi_viz.poof()\n",
    "fig.savefig('Desktop\\oreilly\\mlpr_1401.png', dpi = 300)"
   ]
  },
  {
   "cell_type": "markdown",
   "id": "f30267f1",
   "metadata": {},
   "source": [
    "### SVMs"
   ]
  },
  {
   "cell_type": "code",
   "execution_count": null,
   "id": "1b30f59d",
   "metadata": {},
   "outputs": [],
   "source": [
    "from sklearn.svm import SVR"
   ]
  },
  {
   "cell_type": "code",
   "execution_count": null,
   "id": "e5121103",
   "metadata": {},
   "outputs": [],
   "source": [
    "svr = SVR()\n",
    "svr.fit(bos_sX_train, bos_sy_train)"
   ]
  },
  {
   "cell_type": "code",
   "execution_count": null,
   "id": "ce6129ed",
   "metadata": {},
   "outputs": [],
   "source": [
    "svr.score(bos_sX_test, bos_sy_test)"
   ]
  },
  {
   "cell_type": "markdown",
   "id": "9378f0e7",
   "metadata": {},
   "source": [
    "### K vizinhos mais próximos"
   ]
  },
  {
   "cell_type": "code",
   "execution_count": null,
   "id": "4d3a96b6",
   "metadata": {},
   "outputs": [],
   "source": [
    "from sklearn.neighbors import KNeighborsRegressor"
   ]
  },
  {
   "cell_type": "code",
   "execution_count": null,
   "id": "b4795038",
   "metadata": {},
   "outputs": [],
   "source": [
    "knr = KNeighborsRegressor()\n",
    "knr.fit(bos_sX_train, bos_sy_train)"
   ]
  },
  {
   "cell_type": "code",
   "execution_count": null,
   "id": "52ec46f3",
   "metadata": {},
   "outputs": [],
   "source": [
    "knr.score(bos_sX_test, bos_sy_test)"
   ]
  },
  {
   "cell_type": "markdown",
   "id": "b3fb86b1",
   "metadata": {},
   "source": [
    "### Árvore de decisão"
   ]
  },
  {
   "cell_type": "code",
   "execution_count": null,
   "id": "13d55616",
   "metadata": {},
   "outputs": [],
   "source": [
    "from sklearn.tree import DecisionTreeRegressor"
   ]
  },
  {
   "cell_type": "code",
   "execution_count": null,
   "id": "3eae4037",
   "metadata": {},
   "outputs": [],
   "source": [
    "dtr = DecisionTreeRegressor(random_state = 42)\n",
    "dtr.fit(bos_X_train, bos_y_train)"
   ]
  },
  {
   "cell_type": "code",
   "execution_count": null,
   "id": "50bbbd90",
   "metadata": {},
   "outputs": [],
   "source": [
    "dtr.score(bos_X_test, bos_y_test)"
   ]
  },
  {
   "cell_type": "code",
   "execution_count": null,
   "id": "1cd31c0b",
   "metadata": {},
   "outputs": [],
   "source": [
    "import pydotplus\n",
    "from io import StringIO\n",
    "from sklearn.tree import export_graphviz"
   ]
  },
  {
   "cell_type": "code",
   "execution_count": null,
   "id": "22beac41",
   "metadata": {},
   "outputs": [],
   "source": [
    "\"\"\"\n",
    "dot_data = StringIO()\n",
    "tree.export_graphviz(dtr, out_file = dot_data, feature_names = bos_X.columns, filled = True)\n",
    "g = pydotplus.graph_from_dot_data(dot_data.getvalue())\n",
    "g.write_png('Desktop\\oreilly\\mlpr_1402.png')\n",
    "\"\"\""
   ]
  },
  {
   "cell_type": "code",
   "execution_count": null,
   "id": "31134682",
   "metadata": {},
   "outputs": [],
   "source": [
    "\"\"\"\n",
    "fromIPython.display import Image\n",
    "Image(g.creat_png())\n",
    "\"\"\""
   ]
  },
  {
   "cell_type": "code",
   "execution_count": null,
   "id": "3150cd36",
   "metadata": {},
   "outputs": [],
   "source": [
    "\"\"\"\n",
    "dot_data = StringIO()\n",
    "tree.export_graphviz(dtr, max_depth = 2, out_file = dot_data, feature_names = bos_X.columns, filled = True)\n",
    "g = pydotplus.graph_from_dot_data(dot_data.getvalue())\n",
    "g.write_png('Desktop\\oreilly\\mlpr_1403.png')\n",
    "\"\"\""
   ]
  },
  {
   "cell_type": "code",
   "execution_count": null,
   "id": "9df2a995",
   "metadata": {},
   "outputs": [],
   "source": [
    "\"\"\"\n",
    "dtr3 = DecisionTreeRegressor(max_depth = 2)\n",
    "dtr3.fit(bos_X_train, bos_y_train)\n",
    "viz = dtreeviz.trees.dtreeviz(dtr3, bos_X, bos_y, target_name = 'price', feature_names = bos_X.columns)\n",
    "viz\n",
    "\"\"\""
   ]
  },
  {
   "cell_type": "code",
   "execution_count": null,
   "id": "dfb40657",
   "metadata": {},
   "outputs": [],
   "source": [
    "for col, val in sorted(zip(bos_X.columns, dtr.feature_importances_), key = lambda x: x[1], reverse = True)[:5]:\n",
    "    print(f'{col:10}{val:10.3f}')"
   ]
  },
  {
   "cell_type": "markdown",
   "id": "ef889beb",
   "metadata": {},
   "source": [
    "### Floresta Aleatória"
   ]
  },
  {
   "cell_type": "code",
   "execution_count": null,
   "id": "25b734df",
   "metadata": {},
   "outputs": [],
   "source": [
    "from sklearn.ensemble import RandomForestRegressor\n",
    "rfr = RandomForestRegressor(random_state = 42, n_estimators = 100)\n",
    "rfr.fit(bos_X_train, bos_y_train)"
   ]
  },
  {
   "cell_type": "code",
   "execution_count": null,
   "id": "004cc905",
   "metadata": {},
   "outputs": [],
   "source": [
    "rfr.score(bos_X_test, bos_y_test)"
   ]
  },
  {
   "cell_type": "code",
   "execution_count": null,
   "id": "b778bb4f",
   "metadata": {},
   "outputs": [],
   "source": [
    "for col, val in sorted(zip(bos_X.columns, rfr.feature_importances_), key = lambda x: x[1], reverse = True)[:5]:\n",
    "    print(f'{col:10}{val:10.3f}')"
   ]
  },
  {
   "cell_type": "markdown",
   "id": "5dbdd9a7",
   "metadata": {},
   "source": [
    "### Regressão XGBoost"
   ]
  },
  {
   "cell_type": "code",
   "execution_count": null,
   "id": "26d36797",
   "metadata": {},
   "outputs": [],
   "source": [
    "xgr = xgb.XGBRegressor(random_state = 42)\n",
    "xgr.fit(bos_X_train, bos_y_train)"
   ]
  },
  {
   "cell_type": "code",
   "execution_count": null,
   "id": "e06cd68d",
   "metadata": {},
   "outputs": [],
   "source": [
    "xgr.score(bos_X_test, bos_y_test)"
   ]
  },
  {
   "cell_type": "code",
   "execution_count": null,
   "id": "8086aaf1",
   "metadata": {},
   "outputs": [],
   "source": [
    "xgr.predict(bos_X.iloc[[0]])"
   ]
  },
  {
   "cell_type": "code",
   "execution_count": null,
   "id": "970bd08d",
   "metadata": {},
   "outputs": [],
   "source": [
    "for col, val in sorted(zip(bos_X.columns, xgr.feature_importances_), key = lambda x: x[1], reverse = True)[:5]:\n",
    "    print(f'{col:10}{val:10.3f}')"
   ]
  },
  {
   "cell_type": "code",
   "execution_count": null,
   "id": "30dd2446",
   "metadata": {},
   "outputs": [],
   "source": [
    "fig, ax = plt.subplots(figsize = (6, 4))\n",
    "xgb.plot_importance(xgr, ax = ax)\n",
    "fig.savefig('Desktop\\oreilly\\mlpr_1405.png', dpi = 300)"
   ]
  },
  {
   "cell_type": "code",
   "execution_count": null,
   "id": "5f38e844",
   "metadata": {},
   "outputs": [],
   "source": [
    "fig, ax = plt.subplots(figsize = (6, 4))\n",
    "fi_viz = FeatureImportances(xgr)\n",
    "fi_viz.fit(bos_X_train, bos_y_train)\n",
    "fi_viz.poof()\n",
    "fig.savefig('Desktop\\oreilly\\mlpr_1406.png', dpi = 300)"
   ]
  },
  {
   "cell_type": "code",
   "execution_count": null,
   "id": "9205c1ed",
   "metadata": {},
   "outputs": [],
   "source": [
    "booster = xgr.get_booster()\n",
    "print(booster.get_dump()[0])"
   ]
  },
  {
   "cell_type": "code",
   "execution_count": null,
   "id": "4e0cbd17",
   "metadata": {},
   "outputs": [],
   "source": [
    "\"\"\"\n",
    "fig, ax = plt.subplots(figsize = (6, 4))\n",
    "xgb.plot_tree(xgr, ax = ax, num_trees = 0)\n",
    "fig.savefig('Desktop\\oreilly\\mlpr_1407.png', dpi = 300)\n",
    "\"\"\""
   ]
  },
  {
   "cell_type": "markdown",
   "id": "6895d4ef",
   "metadata": {},
   "source": [
    "### Regressão LightGBM"
   ]
  },
  {
   "cell_type": "code",
   "execution_count": null,
   "id": "af7f5499",
   "metadata": {},
   "outputs": [],
   "source": [
    "\"\"\" import lightgbm as lgb \"\"\""
   ]
  },
  {
   "cell_type": "code",
   "execution_count": null,
   "id": "4b99996d",
   "metadata": {},
   "outputs": [],
   "source": [
    "\"\"\"\n",
    "lgr = lgb.LGBMRegressor(random_state = 42)\n",
    "lgr.fit(bos_X_train, bos_y_train)\n",
    "\"\"\""
   ]
  },
  {
   "cell_type": "code",
   "execution_count": null,
   "id": "9de2b19c",
   "metadata": {},
   "outputs": [],
   "source": [
    "\"\"\" lgr.score(bos_X_test, bos_y_test) \"\"\""
   ]
  },
  {
   "cell_type": "code",
   "execution_count": null,
   "id": "673f6e1c",
   "metadata": {},
   "outputs": [],
   "source": [
    "\"\"\" lgr.predict(bos_X.iloc[[0]]) \"\"\""
   ]
  },
  {
   "cell_type": "code",
   "execution_count": null,
   "id": "f8f5710d",
   "metadata": {},
   "outputs": [],
   "source": [
    "\"\"\"\n",
    "for col, val in sorted(zip(bos_X.columns, lgr.feature_importances_), key = lambda x: x[1], reverse = True)[:5]:\n",
    "    print(f'{col:10}{val:10.3f}')\n",
    "\"\"\""
   ]
  },
  {
   "cell_type": "code",
   "execution_count": null,
   "id": "7eb425b5",
   "metadata": {},
   "outputs": [],
   "source": [
    "\"\"\"\n",
    "fig, ax = plt.subplots(figsize = (6, 4))\n",
    "lgb.plot_importance(lgr, ax = ax)\n",
    "fig.tight_layout()\n",
    "fig.savefig('Desktop\\oreilly\\mlpr_1408.png', dpi = 300')\n",
    "\"\"\""
   ]
  },
  {
   "cell_type": "code",
   "execution_count": null,
   "id": "68eed587",
   "metadata": {},
   "outputs": [],
   "source": [
    "\"\"\" lgb.create_tree_digraph(lgbr) \"\"\""
   ]
  },
  {
   "cell_type": "markdown",
   "id": "317b7473",
   "metadata": {},
   "source": [
    "# Capítulo 15 = Métricas e avaliação de regressão"
   ]
  },
  {
   "cell_type": "code",
   "execution_count": null,
   "id": "3e8712b7",
   "metadata": {},
   "outputs": [],
   "source": [
    "rfr = RandomForestRegressor(random_state = 42, n_estimators = 100)\n",
    "rfr.fit(bos_X_train, bos_y_train)"
   ]
  },
  {
   "cell_type": "code",
   "execution_count": null,
   "id": "9e9a2173",
   "metadata": {},
   "outputs": [],
   "source": [
    "from sklearn import metrics"
   ]
  },
  {
   "cell_type": "code",
   "execution_count": null,
   "id": "1c2ab600",
   "metadata": {},
   "outputs": [],
   "source": [
    "rfr.score(bos_X_test, bos_y_test)"
   ]
  },
  {
   "cell_type": "code",
   "execution_count": null,
   "id": "36f95aea",
   "metadata": {},
   "outputs": [],
   "source": [
    "\"\"\" metrics.r2_score(bos_y_test, bos_y_test_pred) \"\"\""
   ]
  },
  {
   "cell_type": "code",
   "execution_count": null,
   "id": "800fd460",
   "metadata": {},
   "outputs": [],
   "source": [
    "\"\"\" metrics.explained_variance_score(bos_y_test, bos_y_test_pred) \"\"\""
   ]
  },
  {
   "cell_type": "code",
   "execution_count": null,
   "id": "e05ebe02",
   "metadata": {},
   "outputs": [],
   "source": [
    "\"\"\" metrics.mean_absolute_error(bos_y_test, bos_y_test_pred) \"\"\""
   ]
  },
  {
   "cell_type": "code",
   "execution_count": null,
   "id": "d197c419",
   "metadata": {},
   "outputs": [],
   "source": [
    "\"\"\" metrics.mean_squared_error(bos_y_test, bos_y_test_pred) \"\"\""
   ]
  },
  {
   "cell_type": "code",
   "execution_count": null,
   "id": "0a3aeb76",
   "metadata": {},
   "outputs": [],
   "source": [
    "\"\"\" metrics.mean_squared_log_error(bos_y_test, bos_y_test_pred) \"\"\""
   ]
  },
  {
   "cell_type": "code",
   "execution_count": null,
   "id": "54f427b3",
   "metadata": {},
   "outputs": [],
   "source": [
    "from yellowbrick.regressor import ResidualsPlot"
   ]
  },
  {
   "cell_type": "code",
   "execution_count": null,
   "id": "ee54ef95",
   "metadata": {},
   "outputs": [],
   "source": [
    "fig, ax = plt.subplots(figsize = (6, 4))\n",
    "rpv = ResidualsPlot(rfr)\n",
    "rpv.fit(bos_X_train, bos_y_train)\n",
    "rpv.score(bos_X_test, bos_y_test)\n",
    "rpv.poof()\n",
    "fig.savefig('Desktop\\oreilly\\mlpr_1501.png', dpi = 300)"
   ]
  },
  {
   "cell_type": "markdown",
   "id": "e578e5cc",
   "metadata": {},
   "source": [
    "### Heterocedasticidade"
   ]
  },
  {
   "cell_type": "code",
   "execution_count": null,
   "id": "c554bf96",
   "metadata": {},
   "outputs": [],
   "source": [
    "import statsmodels.stats.api as sms"
   ]
  },
  {
   "cell_type": "code",
   "execution_count": null,
   "id": "c499a32d",
   "metadata": {},
   "outputs": [],
   "source": [
    "# no livro este termo resids é definido apenas no proximo bloco, porem, já é usado aqui\n",
    "resids = bos_y_test - rfr.predict(bos_X_test)\n",
    "\n",
    "hb = sms.het_breuschpagan(resids, bos_X_test)\n",
    "labels = ['Lagrange multiplier statistic', 'p-value', 'f-value', 'f p-value']\n",
    "for name, num in zip(name, hb):\n",
    "    print(f'{name}: {num:.2}')"
   ]
  },
  {
   "cell_type": "markdown",
   "id": "e611c8e0",
   "metadata": {},
   "source": [
    "### Resíduos com distribuição normal"
   ]
  },
  {
   "cell_type": "code",
   "execution_count": null,
   "id": "c43384ae",
   "metadata": {},
   "outputs": [],
   "source": [
    "fig, ax = plt.subplots(figsize = (6, 4))\n",
    "resids = bos_y_test - rfr.predict(bos_X_test)\n",
    "pd.Series(resids, name = 'residuals').plot.hist(bins = 20, ax = ax, title = 'Residual Histogram')\n",
    "fig.savefig('Desktop\\oreilly\\mlpr_1502.png', dpi = 300)"
   ]
  },
  {
   "cell_type": "code",
   "execution_count": null,
   "id": "5103d487",
   "metadata": {},
   "outputs": [],
   "source": [
    "from scipy import stats"
   ]
  },
  {
   "cell_type": "code",
   "execution_count": null,
   "id": "d5638ab8",
   "metadata": {},
   "outputs": [],
   "source": [
    "fig, ax = plt.subplots(figsize = (6, 4))\n",
    "_ = stats.probplot(resids, plot = ax)\n",
    "fig.savefig('Desktop\\oreilly\\mlpr_1503.png', dpi = 300)"
   ]
  },
  {
   "cell_type": "code",
   "execution_count": null,
   "id": "c34ad692",
   "metadata": {},
   "outputs": [],
   "source": [
    "stats.kstest(resids, cdf = 'norm')"
   ]
  },
  {
   "cell_type": "code",
   "execution_count": null,
   "id": "735d6845",
   "metadata": {},
   "outputs": [],
   "source": [
    "from yellowbrick.regressor import PredictionError"
   ]
  },
  {
   "cell_type": "code",
   "execution_count": null,
   "id": "25796820",
   "metadata": {},
   "outputs": [],
   "source": [
    "fig, ax = plt.subplots(figsize = (6, 6))\n",
    "pev = PredictionError(rfr)\n",
    "pev.fit(bos_X_train, bos_y_train)\n",
    "pev.score(bos_X_test, bos_y_test)\n",
    "pev.poof()\n",
    "fig.savefig('Desktop\\oreilly\\mlpr_1504.png', dpi = 300)"
   ]
  },
  {
   "cell_type": "markdown",
   "id": "d11f1477",
   "metadata": {},
   "source": [
    "# Capítulo 16 - Explicando os modelos de regressão"
   ]
  },
  {
   "cell_type": "code",
   "execution_count": null,
   "id": "671b16c3",
   "metadata": {},
   "outputs": [],
   "source": [
    "import xgboost as xgb"
   ]
  },
  {
   "cell_type": "code",
   "execution_count": null,
   "id": "0454a1b9",
   "metadata": {},
   "outputs": [],
   "source": [
    "xgb = xgb.XGBRegressor(random_state = 42, base_score = 0.5)\n",
    "xgr.fit(bos_X_train, bos_y_train)"
   ]
  },
  {
   "cell_type": "markdown",
   "id": "ec06fd26",
   "metadata": {},
   "source": [
    "### Shapley"
   ]
  },
  {
   "cell_type": "code",
   "execution_count": null,
   "id": "6d25a7bf",
   "metadata": {},
   "outputs": [],
   "source": [
    "sample_idx = 5\n",
    "xgr.predict(bos_X.iloc[[sample_idx]])"
   ]
  },
  {
   "cell_type": "code",
   "execution_count": null,
   "id": "4970ea7a",
   "metadata": {},
   "outputs": [],
   "source": [
    "\"\"\" import shap \"\"\""
   ]
  },
  {
   "cell_type": "code",
   "execution_count": null,
   "id": "72fc12f7",
   "metadata": {},
   "outputs": [],
   "source": [
    "\"\"\" \n",
    "shap.initjs()\n",
    "exp = shap.TreeExplainer(xgr)\n",
    "vals = exp.shap_values(bos_X)\n",
    "\"\"\""
   ]
  },
  {
   "cell_type": "code",
   "execution_count": null,
   "id": "3926a5b9",
   "metadata": {},
   "outputs": [],
   "source": [
    "\"\"\" shap.force_plot(exp.expected_value, vals[sample_idx], bos_X.iloc[sample_idx]) \"\"\""
   ]
  },
  {
   "cell_type": "code",
   "execution_count": null,
   "id": "0060f844",
   "metadata": {},
   "outputs": [],
   "source": [
    "\"\"\" shap.force_plot(exp.expected_value, vals, bos_X) \"\"\""
   ]
  },
  {
   "cell_type": "code",
   "execution_count": null,
   "id": "2cbc42d4",
   "metadata": {},
   "outputs": [],
   "source": [
    "\"\"\"\n",
    "fig, ax = plt.subplots(figsize = (6, 4))\n",
    "shap.dependence_plot('LSTAT', vals, bos_X)\n",
    "fig.savefig('Desktop\\oreilly\\mlpr_1603.png', dpi = 300)\n",
    "\"\"\""
   ]
  },
  {
   "cell_type": "code",
   "execution_count": null,
   "id": "95cd1a81",
   "metadata": {},
   "outputs": [],
   "source": [
    "\"\"\"\n",
    "fig, ax = plt.subplots(figsize = (6, 4))\n",
    "shap.dependence_plot('DIS', vals, bos_X, interaction_index = 'RM')\n",
    "fig.savefig('Desktop\\oreilly\\mlpr_1604.png', dpi = 300)\n",
    "\"\"\""
   ]
  },
  {
   "cell_type": "markdown",
   "id": "242ef955",
   "metadata": {},
   "source": [
    "### Redução de dimensionalidade"
   ]
  },
  {
   "cell_type": "code",
   "execution_count": null,
   "id": "ba2301ce",
   "metadata": {},
   "outputs": [],
   "source": [
    "ti_df = tweak_titanic(orig_df)\n",
    "std_cols = 'pclass,age,sibsp,fare'.split(',')\n",
    "X_train, X_test, y_train, y_test = get_train_test_X_y(ti_df, 'survived', std_cols = std_cols)\n",
    "X = pd.concat([X_train, X_test])\n",
    "y = pd.concat([y_train, y_test])"
   ]
  },
  {
   "cell_type": "code",
   "execution_count": null,
   "id": "d581d50d",
   "metadata": {},
   "outputs": [],
   "source": [
    "X, y"
   ]
  },
  {
   "cell_type": "code",
   "execution_count": null,
   "id": "eb59fa94",
   "metadata": {},
   "outputs": [],
   "source": [
    "from sklearn.decomposition import PCA\n",
    "from sklearn.preprocessing import StandardScaler"
   ]
  },
  {
   "cell_type": "code",
   "execution_count": null,
   "id": "ab86833e",
   "metadata": {},
   "outputs": [],
   "source": [
    "pca = PCA(random_state = 42)\n",
    "X_pca = pca.fit_transform(StandardScaler().fit_transform(X))\n",
    "pca.explained_variance_ratio_"
   ]
  },
  {
   "cell_type": "code",
   "execution_count": null,
   "id": "5ee72e6d",
   "metadata": {},
   "outputs": [],
   "source": [
    "pca.components_[0]"
   ]
  },
  {
   "cell_type": "code",
   "execution_count": null,
   "id": "58888084",
   "metadata": {},
   "outputs": [],
   "source": [
    "fig, ax = plt.subplots(figsize = (6, 4))\n",
    "ax.plot(pca.explained_variance_ratio_)\n",
    "ax.set(xlabel = 'Component', ylabel = 'Percent of Explained variance', title = 'Scree Plot', ylim = (0, 1))\n",
    "fig.savefig('Desktop\\oreilly\\mlpr_1701.png', dpi = 300)"
   ]
  },
  {
   "cell_type": "code",
   "execution_count": null,
   "id": "8cbfdae0",
   "metadata": {},
   "outputs": [],
   "source": [
    "fig, ax = plt.subplots(figsize = (6, 4))\n",
    "ax.plot(np.cumsum(pca.explained_variance_ratio_))\n",
    "ax.set(xlabel = 'Component', ylabel = 'Percent of Explained variance', title = 'Cumulative Variance', ylim = (0, 1))\n",
    "fig.savefig('Desktop\\oreilly\\mlpr_1702.png', dpi = 300)"
   ]
  },
  {
   "cell_type": "code",
   "execution_count": null,
   "id": "bc88d4ce",
   "metadata": {},
   "outputs": [],
   "source": [
    "fig, ax = plt.subplots(figsize = (6, 4))\n",
    "plt.imshow(pca.components_.T, cmap = 'Spectral', vmin = -1, vmax = 1)\n",
    "plt.yticks(range(len(X.columns)), X.columns)\n",
    "plt.xticks(range(8), range(1, 9))\n",
    "plt.xlabel('Principal Component')\n",
    "plt.ylabel('Contribution')\n",
    "plt.title('Contribution of Features to Components')\n",
    "plt.colorbar()\n",
    "fig.savefig('Desktop\\oreilly\\mlpr_1703.png', dpi = 300)"
   ]
  },
  {
   "cell_type": "code",
   "execution_count": null,
   "id": "e9e6c328",
   "metadata": {},
   "outputs": [],
   "source": [
    "fig, ax = plt.subplots(figsize = (8, 4))\n",
    "pd.DataFrame(pca.components_, columns = X.columns).plot(kind = 'bar', ax = ax).legend(bbox_to_anchor = (1, 1))\n",
    "fig.savefig('Desktop\\oreilly\\mlpr_1704.png', dpi = 300)"
   ]
  },
  {
   "cell_type": "code",
   "execution_count": null,
   "id": "a4acc662",
   "metadata": {},
   "outputs": [],
   "source": [
    "comps = pd.DataFrame(pca.components_, columns = X.columns)\n",
    "min_val = 0.5\n",
    "num_components = 2\n",
    "pca_cols = set()\n",
    "for i in range(num_components):\n",
    "    parts = comps.iloc[i][comps.iloc[i].abs() > min_val]\n",
    "    pca_cols.update(set(parts.index))\n",
    "pca_cols"
   ]
  },
  {
   "cell_type": "code",
   "execution_count": null,
   "id": "4cd4f640",
   "metadata": {},
   "outputs": [],
   "source": [
    "from yellowbrick.features.pca import PCADecomposition"
   ]
  },
  {
   "cell_type": "code",
   "execution_count": null,
   "id": "e1f4473c",
   "metadata": {},
   "outputs": [],
   "source": [
    "fig, ax = plt.subplots(figsize = (6, 4))\n",
    "colors = ['rg'[j] for j in y]\n",
    "pca_viz = PCADecomposition(color = colors)\n",
    "pca_viz.fit_transform(X, y)\n",
    "pca_viz.poof()\n",
    "fig.savefig('Desktop\\oreilly\\mlpr_1705.png', dpi = 300)"
   ]
  },
  {
   "cell_type": "code",
   "execution_count": null,
   "id": "53bc6b47",
   "metadata": {},
   "outputs": [],
   "source": [
    "fig, ax = plt.subplots(figsize = (6, 4))\n",
    "pca_df = pd.DataFrame(X_pca, columns = [f'PC{i+1}' for i in range(X_pca.shape[1])])\n",
    "pca_df['status'] = [('deceased', 'survived')[i] for i in y]\n",
    "evr = pca.explained_variance_ratio_\n",
    "ax.set_aspect(evr[1] / evr[0])\n",
    "sns.scatterplot(x = 'PC1', y = 'PC2', hue = 'status', data = pca_df, alpha = 0.5, ax = ax)\n",
    "fig.savefig('Desktop\\oreilly\\mlpr_1706.png', dpi = 300)"
   ]
  },
  {
   "cell_type": "code",
   "execution_count": null,
   "id": "77d31d19",
   "metadata": {},
   "outputs": [],
   "source": [
    "fig, ax = plt.subplots(figsize = (6, 4))\n",
    "pca_df = pd.DataFrame(X_pca, columns = [f'PC{i+1}' for i in range(X_pca.shape[1])])\n",
    "pca_df['status'] = [('deceased', 'survived')[i] for i in y]\n",
    "evr = pca.explained_variance_ratio_\n",
    "x_idx = 0 # x_pc\n",
    "y_idx = 1 # y_pc\n",
    "ax.set_aspect(evr[y_idx] / evr[x_idx])\n",
    "x_col = pca_df.columns[x_idx]\n",
    "y_col = pca_df.columns[y_idx]\n",
    "sns.scatterplot(x = x_col, y = y_col, hue = 'status', data = pca_df, alpha = 0.5, ax = ax)\n",
    "scale = 8\n",
    "comps = pd.DataFrame(pca.components_, columns = X.columns)\n",
    "for idx, s in comps.T.iterrows():\n",
    "    plt.arrow(0, 0, s[x_idx] * scale, s[y_idx] * scale, color = 'k')\n",
    "    plt.text(s[x_idx] * scale, s[y_idx] * scale, idx, weight = 'bold')\n",
    "fig.savefig('Desktop\\oreilly\\mlpr_1707.png', dpi = 300)"
   ]
  },
  {
   "cell_type": "code",
   "execution_count": null,
   "id": "41b16415",
   "metadata": {},
   "outputs": [],
   "source": [
    "fig, ax = plt.subplots(figsize = (6, 4))\n",
    "pca_df = pd.DataFrame(X_pca, columns = [f'PC{i+1}' for i in range(X_pca.shape[1])])\n",
    "pca_df['status'] = [('deceased', 'survived')[i] for i in y]\n",
    "evr = pca.explained_variance_ratio_\n",
    "ax.set_aspect(evr[3] / evr[0])\n",
    "sns.scatterplot(x = 'PC1', y = 'PC4', hue = 'status', data = pca_df, alpha = 0.5, ax = ax)\n",
    "fig.savefig('Desktop\\oreilly\\mlpr_1708.png', dpi = 300, bbox_inches = 'tight')"
   ]
  },
  {
   "cell_type": "code",
   "execution_count": null,
   "id": "3ac9b886",
   "metadata": {},
   "outputs": [],
   "source": [
    "from bokeh.io import output_notebook\n",
    "from bokeh import models, palettes, transform\n",
    "from bokeh.plotting import figure, show"
   ]
  },
  {
   "cell_type": "code",
   "execution_count": null,
   "id": "24a8a561",
   "metadata": {},
   "outputs": [],
   "source": [
    "def bokeh_scatter(x, y, data, hue = None, label_cols = None, size = None, legend = None, alpha = 0.5):\n",
    "    output_notebook()\n",
    "    circle_kwargs = {}\n",
    "    if legend:\n",
    "        circle_kwargs['legend'] = legend\n",
    "    if size:\n",
    "        circle_kwargs['size'] = size\n",
    "    if hue:\n",
    "        color_seq = data[hue]\n",
    "        mapper = models.LinearColorMapper(palette = palettes.viridis(256), low = min(color_seq), high = max(color_seq))\n",
    "        circle_kwargs['fill_color'] = transform.transform(hue, mapper)\n",
    "    ds = models.ColumnDataSource(data)\n",
    "    if label_cols in None:\n",
    "        label_cols = data.columns\n",
    "    tools_tips = sorted([(x, '@{}'.format(x)) for x in label_cols], key = lambda tup: tup[0])\n",
    "    hover = models.HoverTool(tooltips = tool_tips)\n",
    "    fig = figure(tools = [hover, 'pan', 'zoom_in', 'zoom_out', 'reset'], toolbar_location = 'below')\n",
    "    fig.circle(x, y, source = ds, alpha = alpha, **circle_kwargs)\n",
    "    show(fig)\n",
    "    return(fig)\n",
    "res = bokeh_scatter('PC1', 'PC2', data = pca_df.assign(surv = y.reset_index(drop = True)), hue = 'surv', size = 10, legend = 'surv')"
   ]
  },
  {
   "cell_type": "code",
   "execution_count": null,
   "id": "3a89ae37",
   "metadata": {},
   "outputs": [],
   "source": [
    "from yellowbrick.features.pca import PCADecomposition"
   ]
  },
  {
   "cell_type": "code",
   "execution_count": null,
   "id": "5a37fa28",
   "metadata": {},
   "outputs": [],
   "source": [
    "colors = ['rg'[j] for j in y]\n",
    "pca3_viz = PCADecomposition(proj_dim = 3, color = colors)\n",
    "pca3_viz.fit_transform(X, y)\n",
    "pca3_viz.finalize()\n",
    "fig = plt.gcf()\n",
    "plt.tight_layout()\n",
    "fig.savefig('Desktop\\oreilly\\mlpr_1710.png', dpi = 300, bbox_inches = 'tight')"
   ]
  },
  {
   "cell_type": "code",
   "execution_count": null,
   "id": "d2115b11",
   "metadata": {},
   "outputs": [],
   "source": [
    "import scprep"
   ]
  },
  {
   "cell_type": "code",
   "execution_count": null,
   "id": "8b399a5a",
   "metadata": {},
   "outputs": [],
   "source": [
    "scprep.plot.rotate_scatter3d(X_pca[:, :3], c = y, cmap = 'Spectral', figsize = (8, 6), label_prefix = 'Principal Component')"
   ]
  },
  {
   "cell_type": "code",
   "execution_count": null,
   "id": "9a1a9f01",
   "metadata": {},
   "outputs": [],
   "source": [
    "from mpl_toolkits.mplot3d import Axes3D"
   ]
  },
  {
   "cell_type": "code",
   "execution_count": null,
   "id": "56626be9",
   "metadata": {},
   "outputs": [],
   "source": [
    "fig = plt.figure(figsize = (6, 4))\n",
    "ax = fig.add_subplot(111, projection = '3d')\n",
    "ax.scatter(xs = X_pca[:, 0], ys = X_pca[:, 1], zs = X_pca[:, 2], c = y, cmap = 'viridis')\n",
    "ax.set_xlabel('PC1')\n",
    "ax.set_ylabel('PC2')\n",
    "ax.set_zlabel('PC3')"
   ]
  },
  {
   "cell_type": "markdown",
   "id": "7e08067b",
   "metadata": {},
   "source": [
    "### UMAP"
   ]
  },
  {
   "cell_type": "code",
   "execution_count": null,
   "id": "efeeb3b6",
   "metadata": {},
   "outputs": [],
   "source": [
    "import umap"
   ]
  },
  {
   "cell_type": "code",
   "execution_count": null,
   "id": "4f4e622c",
   "metadata": {},
   "outputs": [],
   "source": [
    "u = umap.UMAP(random_state = 42)\n",
    "X_umap = u.fit_transform(StandardScaler().fit_transform(X))\n",
    "X_umap.shape"
   ]
  },
  {
   "cell_type": "code",
   "execution_count": null,
   "id": "8e31cc59",
   "metadata": {},
   "outputs": [],
   "source": [
    "fig, ax = plt.subplots(figsize = (8, 4))\n",
    "pd.DataFrame(X_umap.plot(kind = 'scatter', x = 0, y = 1, ax = ax, c= y, alpha = 0.2, cmap = 'Spectral'))\n",
    "fig.savefig('Desktop\\oreilly\\mlpr_1713.png', dpi = 300)"
   ]
  },
  {
   "cell_type": "code",
   "execution_count": null,
   "id": "a263c9de",
   "metadata": {},
   "outputs": [],
   "source": [
    "X_std = StandardScaler().fit_transform(X)\n",
    "fig, axes = plt.subplots(2, 2, figsize = (6, 4))\n",
    "axes = axes.reshape(4)\n",
    "for i, n in enumerate([2, 5, 10, 50]):\n",
    "    ax = axes[i]\n",
    "    u = umap.UMAP(random_state = 42, n_neighbors = n)\n",
    "    X_umap = u_fit_transform(X_std)\n",
    "    pd.DataFrame(X_umap).plot(kind = 'scatter', x = 0, y = 1, ax = ax, c = y, cmap = 'Spectral', alpha = 0.5)\n",
    "    ax.set_title(f'nn = {n}')\n",
    "    plt.tight_layout()\n",
    "    fig.savefig('Desktop\\oreilly\\mlpr_1714.png', dpi = 300)"
   ]
  },
  {
   "cell_type": "code",
   "execution_count": null,
   "id": "cd8cc0d9",
   "metadata": {},
   "outputs": [],
   "source": [
    "fig, axes = plt.subplots(2, 2, figsize = (6, 4))\n",
    "axes = axes.reshape(4)\n",
    "for i, n in enumerate([0, 0.33, 0.66, 0.99]):\n",
    "    ax = axes[i]\n",
    "    u = umap.UMAP(random_state = 42, min_dist = n)\n",
    "    X_umap = u.fit_transform(X_std)\n",
    "    pd.DataFrame(X_umap).plot(kind = 'scatter', x = 0, y = 1, ax = ax, c = y, cmap = 'Spectral', alpha = 0.5)\n",
    "    ax.set_title(f'min_dist = {n}')\n",
    "plt.tight_layout()\n",
    "fig.savefig('Desktop\\oreilly\\mlpr_1715.png', dpi = 300)"
   ]
  },
  {
   "cell_type": "markdown",
   "id": "9f44c2e9",
   "metadata": {},
   "source": [
    "### t-SNE"
   ]
  },
  {
   "cell_type": "code",
   "execution_count": null,
   "id": "5b39968c",
   "metadata": {},
   "outputs": [],
   "source": [
    "from sklearn.manifold import TSNE"
   ]
  },
  {
   "cell_type": "code",
   "execution_count": null,
   "id": "bd0a157d",
   "metadata": {},
   "outputs": [],
   "source": [
    "X_std = StandardScaler().fit_transform(X)\n",
    "ts = TSNE()\n",
    "X_tsne = ts.fit_transform(X_std)"
   ]
  },
  {
   "cell_type": "code",
   "execution_count": null,
   "id": "52b09c81",
   "metadata": {},
   "outputs": [],
   "source": [
    "fig, ax = plt.subplots(figsize = (6, 4))\n",
    "colors = ['rg'[j] for j in y]\n",
    "scat = ax.scatter(X_tsne[:, 0], X_tsne[:, 1], c = colors, alpha = 0.5)\n",
    "ax.set_xlabel('Embedding 1')\n",
    "ax.set_ylabel('Embedding 2')\n",
    "fig.savefig('Desktop\\oreilly\\mlpr_1716.png', dpi = 300)"
   ]
  },
  {
   "cell_type": "code",
   "execution_count": null,
   "id": "4a18d9b2",
   "metadata": {},
   "outputs": [],
   "source": [
    "fig, axes = plt.subplots(2, 2, figsize = (6, 4))\n",
    "axes = axes.reshape(4)\n",
    "for i, n in enumerate((2, 30, 50, 100)):\n",
    "    ax = axes[i]\n",
    "    t = TSNE(random_state = 42, perplexity = n)\n",
    "    X_tsne = t.fit_transform(X)\n",
    "    pd.DataFrame(X_tsne).plot(kind = 'scatter', x = 0, y = 1, ax = ax, c = y, cmap = 'Spectral', alpha = 0.5)\n",
    "    ax.set_title(f'perplexity = {n}')\n",
    "    plt.tight_layout()\n",
    "    fig.savefig('Desktop\\oreilly\\mlpr_1717.png', dpi = 300)"
   ]
  },
  {
   "cell_type": "markdown",
   "id": "ee4de67c",
   "metadata": {},
   "source": [
    "### PHATE"
   ]
  },
  {
   "cell_type": "code",
   "execution_count": null,
   "id": "e62987c0",
   "metadata": {},
   "outputs": [],
   "source": [
    "import phate"
   ]
  },
  {
   "cell_type": "code",
   "execution_count": null,
   "id": "37675835",
   "metadata": {},
   "outputs": [],
   "source": [
    "p = phate.PHATE(random_state = 42)\n",
    "X_phate = p.fit_transform(X)\n",
    "X_phate.shape"
   ]
  },
  {
   "cell_type": "code",
   "execution_count": null,
   "id": "6277d818",
   "metadata": {},
   "outputs": [],
   "source": [
    "fig, ax = plt.subplots(figsize = (6, 4))\n",
    "phate.plot.scatter2d(p, c = y, ax = ax, alpha = 0.5)\n",
    "fig.savefig('Desktop\\oreilly\\mlpr_1718.png', dpi = 300)"
   ]
  },
  {
   "cell_type": "code",
   "execution_count": null,
   "id": "45ec0855",
   "metadata": {},
   "outputs": [],
   "source": [
    "fig, axes = plt.subplots(2, 2, figsize = (6, 4))\n",
    "axes = axes.reshape(4)\n",
    "p = phate.PHATE(random_state = 42, n_jobs = -1)\n",
    "for i, n in enumerate((2, 5, 20, 100)):\n",
    "    ax = axes[i]\n",
    "    p.set_params(knn = n)\n",
    "    X_phate = p.fit_transform(X)\n",
    "    pd.DataFrame(X_phate).plot(kind = 'scatter', x = 0, y = 1, ax = ax, c = y, cmap = 'Spectral', alpha = 0.5)\n",
    "    ax.set_title(f'knn = {n}')\n",
    "plt.tight_layout()\n",
    "fig.savefig('Desktop\\oreilly\\mlpr_1719.png', dpi = 300)"
   ]
  },
  {
   "cell_type": "markdown",
   "id": "581dbf74",
   "metadata": {},
   "source": [
    "# Capítulo 18 - Clustering"
   ]
  },
  {
   "cell_type": "code",
   "execution_count": null,
   "id": "b0029816",
   "metadata": {},
   "outputs": [],
   "source": [
    "from sklearn.cluster import KMeans"
   ]
  },
  {
   "cell_type": "code",
   "execution_count": null,
   "id": "a5da3ffd",
   "metadata": {},
   "outputs": [],
   "source": [
    "X_std = preprocessing.StandardScaler().fit_transform(X)\n",
    "km = KMeans(2, random_state = 42)\n",
    "km.fit(X_std)"
   ]
  },
  {
   "cell_type": "code",
   "execution_count": null,
   "id": "8fcb0d47",
   "metadata": {},
   "outputs": [],
   "source": [
    "X_km = km.predict(X)\n",
    "X_km"
   ]
  },
  {
   "cell_type": "code",
   "execution_count": null,
   "id": "8da8c6f1",
   "metadata": {},
   "outputs": [],
   "source": [
    "inertias = []\n",
    "sizes = range(2, 12)\n",
    "for k in sizes:\n",
    "    k2 = KMeans(random_state = 42, n_clusters = k)\n",
    "    k2.fit(X)\n",
    "    inertias.append(k2.inertia_)\n",
    "fig, ax = plt.subplots(figsize = (6, 4))\n",
    "pd.Series(inertias, index = sizes).plot(ax = ax)\n",
    "ax.set_xlabel('K')\n",
    "ax.set_ylabel('Inertia')\n",
    "fig.savefig('Desktop\\oreilly\\mlpr_1801.png', dpi = 300)"
   ]
  },
  {
   "cell_type": "code",
   "execution_count": null,
   "id": "796d3045",
   "metadata": {},
   "outputs": [],
   "source": [
    "from sklearn import metrics"
   ]
  },
  {
   "cell_type": "code",
   "execution_count": null,
   "id": "36e7ddb0",
   "metadata": {},
   "outputs": [],
   "source": [
    "inertias = []\n",
    "sils = []\n",
    "chs = []\n",
    "dbs = []\n",
    "sizes = range(2, 12)\n",
    "for k in sizes:\n",
    "    k2 = KMeans(random_state = 42, n_clusters = k)\n",
    "    k2.fit(X_std)\n",
    "    inertias.append(k2.inertia_)\n",
    "    sils.append(metrics.silhouette_score(X, k2.labels_))\n",
    "    chs.append(metrics.calinski_harabasz_score(X, k2.labels_))\n",
    "    dbs.append(metrics.davies_bouldin_score(X, k2.labels_))\n",
    "fig, ax = plt.subplots(figsize = (6, 4))\n",
    "(pd.DataFrame({'inertia': inertias, 'silhouette': sils, 'calinski': chs, 'davis': dbs, 'k': sizes}).set_index('k').plot(ax = ax, subplots = True, layout = (2, 2)))\n",
    "fig.savefig('Desktop\\oreilly\\mlpr_1802.png', dpi = 300)"
   ]
  },
  {
   "cell_type": "code",
   "execution_count": null,
   "id": "0b6ec5b7",
   "metadata": {},
   "outputs": [],
   "source": [
    "from yellowbrick.cluster.silhouette import SilhouetteVisualizer"
   ]
  },
  {
   "cell_type": "markdown",
   "id": "a096847e",
   "metadata": {},
   "source": [
    "fig, axes = plt.subplots(2, 2, figsize = (12, 8))\n",
    "axes = axes.reshape(4)\n",
    "for i, k in enumerate(range(2, 6)):\n",
    "    ax = axes[i]\n",
    "    sil = SilhouetteVisualizer(KMeans(n_clusters = k, random_state = 42), ax = ax)\n",
    "    sil.fit(X_std)\n",
    "    sil.finalize()\n",
    "    ax.set_xlim(-0.2, 0.8)\n",
    "plt.tight_layout()\n",
    "fig.savefig('Desktop\\oreilly\\mlpr_1803.png', dpi = 300)"
   ]
  },
  {
   "cell_type": "markdown",
   "id": "264f522b",
   "metadata": {},
   "source": [
    "### Clustering (hierárquico) aglomerativo"
   ]
  },
  {
   "cell_type": "code",
   "execution_count": null,
   "id": "15a386ed",
   "metadata": {},
   "outputs": [],
   "source": [
    "from scipy.cluster import hierarchy"
   ]
  },
  {
   "cell_type": "code",
   "execution_count": null,
   "id": "798657d9",
   "metadata": {},
   "outputs": [],
   "source": [
    "fig, ax = plt.subplots(figsize = (6, 4))\n",
    "dend = hierarchy.dendrogram(hierarchy.linkage(X_std, method = 'ward'))\n",
    "fig.savefig('Desktop\\oreilly\\mlpr_1804.png', dpi = 300)"
   ]
  },
  {
   "cell_type": "code",
   "execution_count": null,
   "id": "328f14a4",
   "metadata": {},
   "outputs": [],
   "source": [
    "from scipy.cluster import hierarchy"
   ]
  },
  {
   "cell_type": "code",
   "execution_count": null,
   "id": "6e370d00",
   "metadata": {},
   "outputs": [],
   "source": [
    "fig, ax = plt.subplots(figsize = (6, 4))\n",
    "dend = hierarchy.dendrogram(hierarchy.linkage(X_std, method = 'ward'), truncate_mode = 'lastp', p = 20, show_contracted = True)\n",
    "fig.savefig('Desktop\\oreilly\\mlpr_1805.png', dpi = 300)"
   ]
  },
  {
   "cell_type": "code",
   "execution_count": null,
   "id": "9fa52288",
   "metadata": {},
   "outputs": [],
   "source": [
    "from sklearn.cluster import AgglomerativeClustering"
   ]
  },
  {
   "cell_type": "code",
   "execution_count": null,
   "id": "cf120eea",
   "metadata": {},
   "outputs": [],
   "source": [
    "ag = AgglomerativeClustering(n_clusters = 4, affinity = 'euclidean', linkage = 'ward')\n",
    "ag.fit(X)"
   ]
  },
  {
   "cell_type": "code",
   "execution_count": null,
   "id": "6fad21a7",
   "metadata": {},
   "outputs": [],
   "source": [
    "km = KMeans(n_clusters = 2)\n",
    "km.fit(X_std)\n",
    "labels = km.predict(X_std)\n",
    "(X.assign(cluster = labels, survived = y).groupby('cluster').agg(['mean', 'var']).T)"
   ]
  },
  {
   "cell_type": "code",
   "execution_count": null,
   "id": "3352a9a2",
   "metadata": {},
   "outputs": [],
   "source": [
    "fig, ax = plt.subplots(figsize = (6, 4))\n",
    "(X.assign(cluster = labels, survived = y).groupby('cluster').mean().T.plot.bar(ax = ax))\n",
    "fig.savefig('Desktop\\oreilly\\mlpr_1806.png', dpi = 300)"
   ]
  },
  {
   "cell_type": "code",
   "execution_count": null,
   "id": "ee2bb43c",
   "metadata": {},
   "outputs": [],
   "source": [
    "fig, ax = plt.subplots(figsize = (6, 4))\n",
    "sns.scatterplot('PC1', 'PC2', data = X.assign(PC1 = X_pca[:, 0], PC2 = X_pca[:, 1], cluster = labels), hue = 'cluster', alpha = 0.5, ax = ax)\n",
    "fig.savefig('Desktop\\oreilly\\mlpr_1807.png', dpi = 300, bbox_inches = 'tight')"
   ]
  },
  {
   "cell_type": "code",
   "execution_count": null,
   "id": "04c26307",
   "metadata": {},
   "outputs": [],
   "source": [
    "(X.assign(cluster = label).groupby('cluster').age.describe().T)"
   ]
  },
  {
   "cell_type": "code",
   "execution_count": null,
   "id": "c074273a",
   "metadata": {},
   "outputs": [],
   "source": [
    "dt = tree.DecisionTreeClassifier()\n",
    "dt.fit(X, labels)\n",
    "for col, val in sorted(zip(X.columns, dt.feature_importances_), key = lambda col_val: col_val[1], reverse = True):\n",
    "    print(f'{col:10}{val:10.3f}')"
   ]
  },
  {
   "cell_type": "code",
   "execution_count": null,
   "id": "900c9a7b",
   "metadata": {},
   "outputs": [],
   "source": [
    "dot_data = StringIO()\n",
    "tree.export_graphviz(dt, out_file = dot_data, feature_names = X.columns, class_names = ['0', '1'], max_depth = 2, filled = True)\n",
    "g = pydotplus.graph_from_dot_data(dot_data.getvalue())\n",
    "g.write_png('Desktop\\oreilly\\mlpr_1808.png', dpi = 300)"
   ]
  },
  {
   "cell_type": "markdown",
   "id": "723dfb46",
   "metadata": {},
   "source": [
    "# Capítulo 19 - Pipelines"
   ]
  },
  {
   "cell_type": "markdown",
   "id": "72104ffd",
   "metadata": {},
   "source": [
    "### Pipeline de Classificação"
   ]
  },
  {
   "cell_type": "code",
   "execution_count": null,
   "id": "e61ef3be",
   "metadata": {},
   "outputs": [],
   "source": [
    "from sklearn.base import BaseEstimator, TransformerMixin\n",
    "from sklearn.pipeline import Pipeline"
   ]
  },
  {
   "cell_type": "code",
   "execution_count": null,
   "id": "e1102f80",
   "metadata": {},
   "outputs": [],
   "source": [
    "def tweak_titanic(df):\n",
    "    df = df.drop(columns = ['name', 'ticket', 'home.dest', 'boat', 'body', 'cabin']).pipe(pd.get_dummies, drop_first = True)\n",
    "    return df"
   ]
  },
  {
   "cell_type": "code",
   "execution_count": null,
   "id": "c8bb767d",
   "metadata": {},
   "outputs": [],
   "source": [
    "class TitanicTransformer(BaseEstimator, TransformerMixin):\n",
    "    def transform(self, X):\n",
    "        X = tweak_titanic(X)\n",
    "        X = X.drop(columns = 'survived')\n",
    "        return X\n",
    "    def fit(self, X, y):\n",
    "        return self\n",
    "pipe = Pipeline([('titan', TitanicTransformer()), ('impute', impute.IterativeImputer()), ('std', preprocessing.StandardScaler()), ('rf', RandomForestClassifier())])"
   ]
  },
  {
   "cell_type": "code",
   "execution_count": null,
   "id": "78936cb1",
   "metadata": {},
   "outputs": [],
   "source": [
    "from sklearn.model_selection import train_test_split"
   ]
  },
  {
   "cell_type": "code",
   "execution_count": null,
   "id": "5c66752a",
   "metadata": {},
   "outputs": [],
   "source": [
    "X_train2, X_test2, y_train2, y_test2 = train_test_split(orig_df, orig_df.survived, test_size = 0.3, random_state = 42)\n",
    "pipe.fit(X_train2, y_train2)\n",
    "pipe.score(X_test2, y_test2)"
   ]
  },
  {
   "cell_type": "code",
   "execution_count": null,
   "id": "4bf03f08",
   "metadata": {},
   "outputs": [],
   "source": [
    "params = {'rf__max_features': [0.4, 'auto'], 'rf__n_estimators': [15, 200]}\n",
    "grid = model_selection.GridSearchCV(pipe, cv = 3, param_grid = params)\n",
    "grid.fit(orig_df, orig_df.survived)"
   ]
  },
  {
   "cell_type": "code",
   "execution_count": null,
   "id": "1af38b40",
   "metadata": {},
   "outputs": [],
   "source": [
    "grid.best_params_"
   ]
  },
  {
   "cell_type": "code",
   "execution_count": null,
   "id": "f6eeedec",
   "metadata": {},
   "outputs": [],
   "source": [
    "pipe.set_params(**grid.best_params_)\n",
    "pipe.fit(X_train2, y_train2)\n",
    "pipe.score(X_test2, y_test2)"
   ]
  },
  {
   "cell_type": "code",
   "execution_count": null,
   "id": "2b399a96",
   "metadata": {},
   "outputs": [],
   "source": [
    "metrics.roc_auc_score(y_test2, pipe.predict(X_test2))"
   ]
  },
  {
   "cell_type": "markdown",
   "id": "7a451b76",
   "metadata": {},
   "source": [
    "### Pipeline de regressão"
   ]
  },
  {
   "cell_type": "code",
   "execution_count": null,
   "id": "48c2c370",
   "metadata": {},
   "outputs": [],
   "source": [
    "from sklearn.pipeline import Pipeline"
   ]
  },
  {
   "cell_type": "code",
   "execution_count": null,
   "id": "a4d9e6da",
   "metadata": {},
   "outputs": [],
   "source": [
    "reg_pipe = Pipeline([('std', preprocessing.StandardScaler()), ('lr', LinearRegression())])\n",
    "reg_pipe.fit(bos_X_train, bos_y_train)\n",
    "reg_pipe.score(bos_X_test, bos_y_test)"
   ]
  },
  {
   "cell_type": "code",
   "execution_count": null,
   "id": "80528483",
   "metadata": {},
   "outputs": [],
   "source": [
    "reg_pipe.named_steps['lr'].intercept_"
   ]
  },
  {
   "cell_type": "code",
   "execution_count": null,
   "id": "00380446",
   "metadata": {},
   "outputs": [],
   "source": [
    "reg_pipe.named_steps['lr'].coef_"
   ]
  },
  {
   "cell_type": "code",
   "execution_count": null,
   "id": "18c06709",
   "metadata": {},
   "outputs": [],
   "source": [
    "from sklearn import metrics"
   ]
  },
  {
   "cell_type": "code",
   "execution_count": null,
   "id": "d5ccae90",
   "metadata": {},
   "outputs": [],
   "source": [
    "metrics.mean_squared_error(bos_y_test, reg_pipe.predict(bos_X_test))"
   ]
  },
  {
   "cell_type": "markdown",
   "id": "c90ee717",
   "metadata": {},
   "source": [
    "### Pipeline de PCA"
   ]
  },
  {
   "cell_type": "code",
   "execution_count": null,
   "id": "bf70980e",
   "metadata": {},
   "outputs": [],
   "source": [
    "pca_pipe = Pipeline([('std', preprocessing.StandardScaler()), ('pca', PCA())])\n",
    "X_pca = pca_pipe.fit_transform(X)"
   ]
  },
  {
   "cell_type": "code",
   "execution_count": null,
   "id": "1c2a24c5",
   "metadata": {},
   "outputs": [],
   "source": [
    "pca_pipe.named_steps['pca'].explained_variance_ratio_"
   ]
  },
  {
   "cell_type": "code",
   "execution_count": null,
   "id": "e6346f3f",
   "metadata": {},
   "outputs": [],
   "source": [
    "pca_pipe.named_steps['pca'].components_[0]"
   ]
  },
  {
   "cell_type": "markdown",
   "id": "4ee4d916",
   "metadata": {},
   "source": [
    "# FIM!"
   ]
  },
  {
   "cell_type": "code",
   "execution_count": null,
   "id": "c10a986a",
   "metadata": {},
   "outputs": [],
   "source": []
  }
 ],
 "metadata": {
  "kernelspec": {
   "display_name": "Python 3 (ipykernel)",
   "language": "python",
   "name": "python3"
  },
  "language_info": {
   "codemirror_mode": {
    "name": "ipython",
    "version": 3
   },
   "file_extension": ".py",
   "mimetype": "text/x-python",
   "name": "python",
   "nbconvert_exporter": "python",
   "pygments_lexer": "ipython3",
   "version": "3.9.7"
  }
 },
 "nbformat": 4,
 "nbformat_minor": 5
}
